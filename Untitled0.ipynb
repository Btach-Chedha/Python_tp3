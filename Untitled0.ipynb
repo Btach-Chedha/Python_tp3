{
  "nbformat": 4,
  "nbformat_minor": 0,
  "metadata": {
    "colab": {
      "provenance": []
    },
    "kernelspec": {
      "name": "python3",
      "display_name": "Python 3"
    },
    "language_info": {
      "name": "python"
    }
  },
  "cells": [
    {
      "cell_type": "markdown",
      "source": [
        "# **Advanced Python**"
      ],
      "metadata": {
        "id": "e_E4Z5apDZEO"
      }
    },
    {
      "cell_type": "markdown",
      "source": [
        "**1-Pydantic**"
      ],
      "metadata": {
        "id": "qIPofCi2D1jZ"
      }
    },
    {
      "cell_type": "markdown",
      "source": [
        "*1.1-Python’s Dynamic Typing Problem*"
      ],
      "metadata": {
        "id": "co8iMxL1EiAG"
      }
    },
    {
      "cell_type": "markdown",
      "source": [
        "1.1.1-Creation texte en gras a variable you don’t have to declare it is type"
      ],
      "metadata": {
        "id": "UzBjb73nE4rr"
      }
    },
    {
      "cell_type": "code",
      "source": [
        "# Python\n",
        "x = 10\n"
      ],
      "metadata": {
        "id": "ymc6EimJEheq"
      },
      "execution_count": null,
      "outputs": []
    },
    {
      "cell_type": "markdown",
      "source": [
        "1.1.2-Override variable with a different type:"
      ],
      "metadata": {
        "id": "AN62kxnqGHdh"
      }
    },
    {
      "cell_type": "code",
      "source": [
        "x = 10\n",
        "x = 'hello'"
      ],
      "metadata": {
        "id": "2O0oU62fGO1O"
      },
      "execution_count": null,
      "outputs": []
    },
    {
      "cell_type": "markdown",
      "source": [
        "1.1.3-The Hidden Costs of Python’s Dynamic Typing:"
      ],
      "metadata": {
        "id": "Hoo0JExWGbaC"
      }
    },
    {
      "cell_type": "code",
      "source": [
        "ali = Person(\"Ali\", 24)    # Correct\n",
        "ali = Person(\"Ali\", \"24\")  # Mistake"
      ],
      "metadata": {
        "id": "5UDYCHbxJl3y"
      },
      "execution_count": null,
      "outputs": []
    },
    {
      "cell_type": "markdown",
      "source": [
        "1.2-How To Use Pydantic:"
      ],
      "metadata": {
        "id": "JLYNZ_-gV7HU"
      }
    },
    {
      "cell_type": "markdown",
      "source": [
        "1.2.1-Install :"
      ],
      "metadata": {
        "id": "Ocm3mWayWHI6"
      }
    },
    {
      "cell_type": "code",
      "source": [
        "pip install pydantic"
      ],
      "metadata": {
        "colab": {
          "base_uri": "https://localhost:8080/"
        },
        "id": "_nVh7xnmWKq0",
        "outputId": "7128426d-9c4b-4a87-bf2d-ca02028826cb"
      },
      "execution_count": null,
      "outputs": [
        {
          "output_type": "stream",
          "name": "stdout",
          "text": [
            "Requirement already satisfied: pydantic in /usr/local/lib/python3.11/dist-packages (2.11.3)\n",
            "Requirement already satisfied: annotated-types>=0.6.0 in /usr/local/lib/python3.11/dist-packages (from pydantic) (0.7.0)\n",
            "Requirement already satisfied: pydantic-core==2.33.1 in /usr/local/lib/python3.11/dist-packages (from pydantic) (2.33.1)\n",
            "Requirement already satisfied: typing-extensions>=4.12.2 in /usr/local/lib/python3.11/dist-packages (from pydantic) (4.13.2)\n",
            "Requirement already satisfied: typing-inspection>=0.4.0 in /usr/local/lib/python3.11/dist-packages (from pydantic) (0.4.0)\n"
          ]
        }
      ]
    },
    {
      "cell_type": "markdown",
      "source": [
        "1.2.2-Define a class that inherits from the BaseModel class:"
      ],
      "metadata": {
        "id": "Kdvp0mxFWmKL"
      }
    },
    {
      "cell_type": "code",
      "source": [
        "from pydantic import BaseModel\n",
        "\n",
        "class User(BaseModel):\n",
        "    name: str\n",
        "    email: str\n",
        "    account_id: int\n"
      ],
      "metadata": {
        "id": "sfsHt-SZW2DV"
      },
      "execution_count": null,
      "outputs": []
    },
    {
      "cell_type": "markdown",
      "source": [
        "1.2.3-Exemple:"
      ],
      "metadata": {
        "id": "gLQCAuwjXIew"
      }
    },
    {
      "cell_type": "code",
      "source": [
        "user = User(\n",
        "    name = \"Salah\",\n",
        "    email = \"salah@gmail.com\",\n",
        "    account_id = 12345\n",
        ")"
      ],
      "metadata": {
        "id": "oBXtc70nXKi2"
      },
      "execution_count": null,
      "outputs": []
    },
    {
      "cell_type": "markdown",
      "source": [
        "1.2.4-Another way to create an instance of the model by unpacking a dictionary:"
      ],
      "metadata": {
        "id": "abeBzqYSXO4E"
      }
    },
    {
      "cell_type": "code",
      "source": [
        "user_data = {\n",
        "    'name': 'Salah',\n",
        "    'email': 'salah@gmail.com',\n",
        "    'account_id': 12345\n",
        "}\n",
        "\n",
        "user = User(**user_data)"
      ],
      "metadata": {
        "id": "Y315K_CXXyxd"
      },
      "execution_count": null,
      "outputs": []
    },
    {
      "cell_type": "markdown",
      "source": [
        "1.2.5-If the data that you have passed in is valid, then the user object will be successfully created:"
      ],
      "metadata": {
        "id": "it6DYauFZHLH"
      }
    },
    {
      "cell_type": "code",
      "source": [
        "print(user.name)    # Salah\n",
        "print(user.email)    # salah@gmail.com\n",
        "print(user.account_id)    # 12345"
      ],
      "metadata": {
        "colab": {
          "base_uri": "https://localhost:8080/"
        },
        "id": "-uGWIv_sl-yF",
        "outputId": "819089f4-7c26-4f38-86dc-f731366d4e9f"
      },
      "execution_count": null,
      "outputs": [
        {
          "output_type": "stream",
          "name": "stdout",
          "text": [
            "Salah\n",
            "salah@gmail.com\n",
            "12345\n"
          ]
        }
      ]
    },
    {
      "cell_type": "markdown",
      "source": [
        "1.3-Validating Data with Pydantic:"
      ],
      "metadata": {
        "id": "kj7jJbCMmP2d"
      }
    },
    {
      "cell_type": "markdown",
      "source": [
        "1.3.1-creation a user with an account_id :"
      ],
      "metadata": {
        "id": "2s93kPDBynho"
      }
    },
    {
      "cell_type": "code",
      "source": [
        "from pydantic import BaseModel\n",
        "\n",
        "class User(BaseModel):\n",
        "    name: str\n",
        "    email: str\n",
        "    account_id: int\n",
        "\n",
        "# It will fail and show a validation error\n",
        "user = User(name = 'Ali', email = 'ali@gmailcom', account_id = 'hello')\n",
        "print(user)"
      ],
      "metadata": {
        "colab": {
          "base_uri": "https://localhost:8080/",
          "height": 436
        },
        "id": "7m4CfcBiypHD",
        "outputId": "0a00a54d-f4e8-418e-992d-9a9ab7f56606"
      },
      "execution_count": null,
      "outputs": [
        {
          "output_type": "error",
          "ename": "ValidationError",
          "evalue": "1 validation error for User\naccount_id\n  Input should be a valid integer, unable to parse string as an integer [type=int_parsing, input_value='hello', input_type=str]\n    For further information visit https://errors.pydantic.dev/2.11/v/int_parsing",
          "traceback": [
            "\u001b[0;31m---------------------------------------------------------------------------\u001b[0m",
            "\u001b[0;31mValidationError\u001b[0m                           Traceback (most recent call last)",
            "\u001b[0;32m<ipython-input-4-da8ca66f9eb7>\u001b[0m in \u001b[0;36m<cell line: 0>\u001b[0;34m()\u001b[0m\n\u001b[1;32m      7\u001b[0m \u001b[0;34m\u001b[0m\u001b[0m\n\u001b[1;32m      8\u001b[0m \u001b[0;31m# It will fail and show a validation error\u001b[0m\u001b[0;34m\u001b[0m\u001b[0;34m\u001b[0m\u001b[0m\n\u001b[0;32m----> 9\u001b[0;31m \u001b[0muser\u001b[0m \u001b[0;34m=\u001b[0m \u001b[0mUser\u001b[0m\u001b[0;34m(\u001b[0m\u001b[0mname\u001b[0m \u001b[0;34m=\u001b[0m \u001b[0;34m'Ali'\u001b[0m\u001b[0;34m,\u001b[0m \u001b[0memail\u001b[0m \u001b[0;34m=\u001b[0m \u001b[0;34m'ali@gmailcom'\u001b[0m\u001b[0;34m,\u001b[0m \u001b[0maccount_id\u001b[0m \u001b[0;34m=\u001b[0m \u001b[0;34m'hello'\u001b[0m\u001b[0;34m)\u001b[0m\u001b[0;34m\u001b[0m\u001b[0;34m\u001b[0m\u001b[0m\n\u001b[0m\u001b[1;32m     10\u001b[0m \u001b[0mprint\u001b[0m\u001b[0;34m(\u001b[0m\u001b[0muser\u001b[0m\u001b[0;34m)\u001b[0m\u001b[0;34m\u001b[0m\u001b[0;34m\u001b[0m\u001b[0m\n",
            "\u001b[0;32m/usr/local/lib/python3.11/dist-packages/pydantic/main.py\u001b[0m in \u001b[0;36m__init__\u001b[0;34m(self, **data)\u001b[0m\n\u001b[1;32m    251\u001b[0m         \u001b[0;31m# `__tracebackhide__` tells pytest and some other tools to omit this function from tracebacks\u001b[0m\u001b[0;34m\u001b[0m\u001b[0;34m\u001b[0m\u001b[0m\n\u001b[1;32m    252\u001b[0m         \u001b[0m__tracebackhide__\u001b[0m \u001b[0;34m=\u001b[0m \u001b[0;32mTrue\u001b[0m\u001b[0;34m\u001b[0m\u001b[0;34m\u001b[0m\u001b[0m\n\u001b[0;32m--> 253\u001b[0;31m         \u001b[0mvalidated_self\u001b[0m \u001b[0;34m=\u001b[0m \u001b[0mself\u001b[0m\u001b[0;34m.\u001b[0m\u001b[0m__pydantic_validator__\u001b[0m\u001b[0;34m.\u001b[0m\u001b[0mvalidate_python\u001b[0m\u001b[0;34m(\u001b[0m\u001b[0mdata\u001b[0m\u001b[0;34m,\u001b[0m \u001b[0mself_instance\u001b[0m\u001b[0;34m=\u001b[0m\u001b[0mself\u001b[0m\u001b[0;34m)\u001b[0m\u001b[0;34m\u001b[0m\u001b[0;34m\u001b[0m\u001b[0m\n\u001b[0m\u001b[1;32m    254\u001b[0m         \u001b[0;32mif\u001b[0m \u001b[0mself\u001b[0m \u001b[0;32mis\u001b[0m \u001b[0;32mnot\u001b[0m \u001b[0mvalidated_self\u001b[0m\u001b[0;34m:\u001b[0m\u001b[0;34m\u001b[0m\u001b[0;34m\u001b[0m\u001b[0m\n\u001b[1;32m    255\u001b[0m             warnings.warn(\n",
            "\u001b[0;31mValidationError\u001b[0m: 1 validation error for User\naccount_id\n  Input should be a valid integer, unable to parse string as an integer [type=int_parsing, input_value='hello', input_type=str]\n    For further information visit https://errors.pydantic.dev/2.11/v/int_parsing"
          ]
        }
      ]
    },
    {
      "cell_type": "markdown",
      "source": [
        "**L'erreur:** account_id est de type int\n",
        "\n",
        "**La solution:** Il faut changer la valeur donnée pour account_id\n"
      ],
      "metadata": {
        "id": "2IjDD0JSPBSW"
      }
    },
    {
      "cell_type": "code",
      "source": [
        "from pydantic import BaseModel\n",
        "\n",
        "class User(BaseModel):\n",
        "    name: str\n",
        "    email: str\n",
        "    account_id: int\n",
        "\n",
        "user = User(name = 'Ali', email = 'ali@gmailcom', account_id = 12345)\n",
        "print(user)"
      ],
      "metadata": {
        "colab": {
          "base_uri": "https://localhost:8080/"
        },
        "id": "LJEXjZNHzTQw",
        "outputId": "1f44cf99-a94e-4bdd-b096-b110ec3785ea"
      },
      "execution_count": null,
      "outputs": [
        {
          "output_type": "stream",
          "name": "stdout",
          "text": [
            "name='Ali' email='ali@gmailcom' account_id=12345\n"
          ]
        }
      ]
    },
    {
      "cell_type": "markdown",
      "source": [
        "1.3.2-Validate that the email attribut of User class is an email:"
      ],
      "metadata": {
        "id": "04_zIJbEzc2e"
      }
    },
    {
      "cell_type": "code",
      "source": [
        "from pydantic import BaseModel, EmailStr\n",
        "\n",
        "class User(BaseModel):\n",
        "    name: str\n",
        "    email: EmailStr     # pip install pydantic[email]\n",
        "    account_id: int\n",
        "\n",
        "# It will fail and show a validation error with email = 'ali'\n",
        "user = User(name = 'Ali', email = 'ali', account_id = 1234)\n",
        "print(user)"
      ],
      "metadata": {
        "colab": {
          "base_uri": "https://localhost:8080/",
          "height": 652
        },
        "id": "IVm0dxO-zh1o",
        "outputId": "5aeba3f1-22a0-40b8-a650-1bea925833f9"
      },
      "execution_count": null,
      "outputs": [
        {
          "output_type": "error",
          "ename": "ImportError",
          "evalue": "email-validator is not installed, run `pip install pydantic[email]`",
          "traceback": [
            "\u001b[0;31m---------------------------------------------------------------------------\u001b[0m",
            "\u001b[0;31mModuleNotFoundError\u001b[0m                       Traceback (most recent call last)",
            "\u001b[0;32m/usr/local/lib/python3.11/dist-packages/pydantic/networks.py\u001b[0m in \u001b[0;36mimport_email_validator\u001b[0;34m()\u001b[0m\n\u001b[1;32m    945\u001b[0m     \u001b[0;32mtry\u001b[0m\u001b[0;34m:\u001b[0m\u001b[0;34m\u001b[0m\u001b[0;34m\u001b[0m\u001b[0m\n\u001b[0;32m--> 946\u001b[0;31m         \u001b[0;32mimport\u001b[0m \u001b[0memail_validator\u001b[0m\u001b[0;34m\u001b[0m\u001b[0;34m\u001b[0m\u001b[0m\n\u001b[0m\u001b[1;32m    947\u001b[0m     \u001b[0;32mexcept\u001b[0m \u001b[0mImportError\u001b[0m \u001b[0;32mas\u001b[0m \u001b[0me\u001b[0m\u001b[0;34m:\u001b[0m\u001b[0;34m\u001b[0m\u001b[0;34m\u001b[0m\u001b[0m\n",
            "\u001b[0;31mModuleNotFoundError\u001b[0m: No module named 'email_validator'",
            "\nThe above exception was the direct cause of the following exception:\n",
            "\u001b[0;31mImportError\u001b[0m                               Traceback (most recent call last)",
            "\u001b[0;32m<ipython-input-6-5e97c5a00e6c>\u001b[0m in \u001b[0;36m<cell line: 0>\u001b[0;34m()\u001b[0m\n\u001b[1;32m      1\u001b[0m \u001b[0;32mfrom\u001b[0m \u001b[0mpydantic\u001b[0m \u001b[0;32mimport\u001b[0m \u001b[0mBaseModel\u001b[0m\u001b[0;34m,\u001b[0m \u001b[0mEmailStr\u001b[0m\u001b[0;34m\u001b[0m\u001b[0;34m\u001b[0m\u001b[0m\n\u001b[1;32m      2\u001b[0m \u001b[0;34m\u001b[0m\u001b[0m\n\u001b[0;32m----> 3\u001b[0;31m \u001b[0;32mclass\u001b[0m \u001b[0mUser\u001b[0m\u001b[0;34m(\u001b[0m\u001b[0mBaseModel\u001b[0m\u001b[0;34m)\u001b[0m\u001b[0;34m:\u001b[0m\u001b[0;34m\u001b[0m\u001b[0;34m\u001b[0m\u001b[0m\n\u001b[0m\u001b[1;32m      4\u001b[0m     \u001b[0mname\u001b[0m\u001b[0;34m:\u001b[0m \u001b[0mstr\u001b[0m\u001b[0;34m\u001b[0m\u001b[0;34m\u001b[0m\u001b[0m\n\u001b[1;32m      5\u001b[0m     \u001b[0memail\u001b[0m\u001b[0;34m:\u001b[0m \u001b[0mEmailStr\u001b[0m     \u001b[0;31m# pip install pydantic[email]\u001b[0m\u001b[0;34m\u001b[0m\u001b[0;34m\u001b[0m\u001b[0m\n",
            "\u001b[0;32m/usr/local/lib/python3.11/dist-packages/pydantic/_internal/_model_construction.py\u001b[0m in \u001b[0;36m__new__\u001b[0;34m(mcs, cls_name, bases, namespace, __pydantic_generic_metadata__, __pydantic_reset_parent_namespace__, _create_model_module, **kwargs)\u001b[0m\n\u001b[1;32m    235\u001b[0m                 \u001b[0;31m# Any operation that requires accessing the field infos instances should be put inside\u001b[0m\u001b[0;34m\u001b[0m\u001b[0;34m\u001b[0m\u001b[0m\n\u001b[1;32m    236\u001b[0m                 \u001b[0;31m# `complete_model_class()`:\u001b[0m\u001b[0;34m\u001b[0m\u001b[0;34m\u001b[0m\u001b[0m\n\u001b[0;32m--> 237\u001b[0;31m                 complete_model_class(\n\u001b[0m\u001b[1;32m    238\u001b[0m                     \u001b[0mcls\u001b[0m\u001b[0;34m,\u001b[0m\u001b[0;34m\u001b[0m\u001b[0;34m\u001b[0m\u001b[0m\n\u001b[1;32m    239\u001b[0m                     \u001b[0mconfig_wrapper\u001b[0m\u001b[0;34m,\u001b[0m\u001b[0;34m\u001b[0m\u001b[0;34m\u001b[0m\u001b[0m\n",
            "\u001b[0;32m/usr/local/lib/python3.11/dist-packages/pydantic/_internal/_model_construction.py\u001b[0m in \u001b[0;36mcomplete_model_class\u001b[0;34m(cls, config_wrapper, raise_errors, ns_resolver, create_model_module)\u001b[0m\n\u001b[1;32m    595\u001b[0m \u001b[0;34m\u001b[0m\u001b[0m\n\u001b[1;32m    596\u001b[0m     \u001b[0;32mtry\u001b[0m\u001b[0;34m:\u001b[0m\u001b[0;34m\u001b[0m\u001b[0;34m\u001b[0m\u001b[0m\n\u001b[0;32m--> 597\u001b[0;31m         \u001b[0mschema\u001b[0m \u001b[0;34m=\u001b[0m \u001b[0mgen_schema\u001b[0m\u001b[0;34m.\u001b[0m\u001b[0mgenerate_schema\u001b[0m\u001b[0;34m(\u001b[0m\u001b[0mcls\u001b[0m\u001b[0;34m)\u001b[0m\u001b[0;34m\u001b[0m\u001b[0;34m\u001b[0m\u001b[0m\n\u001b[0m\u001b[1;32m    598\u001b[0m     \u001b[0;32mexcept\u001b[0m \u001b[0mPydanticUndefinedAnnotation\u001b[0m \u001b[0;32mas\u001b[0m \u001b[0me\u001b[0m\u001b[0;34m:\u001b[0m\u001b[0;34m\u001b[0m\u001b[0;34m\u001b[0m\u001b[0m\n\u001b[1;32m    599\u001b[0m         \u001b[0;32mif\u001b[0m \u001b[0mraise_errors\u001b[0m\u001b[0;34m:\u001b[0m\u001b[0;34m\u001b[0m\u001b[0;34m\u001b[0m\u001b[0m\n",
            "\u001b[0;32m/usr/local/lib/python3.11/dist-packages/pydantic/_internal/_generate_schema.py\u001b[0m in \u001b[0;36mgenerate_schema\u001b[0;34m(self, obj)\u001b[0m\n\u001b[1;32m    704\u001b[0m \u001b[0;34m\u001b[0m\u001b[0m\n\u001b[1;32m    705\u001b[0m         \u001b[0;32mif\u001b[0m \u001b[0mschema\u001b[0m \u001b[0;32mis\u001b[0m \u001b[0;32mNone\u001b[0m\u001b[0;34m:\u001b[0m\u001b[0;34m\u001b[0m\u001b[0;34m\u001b[0m\u001b[0m\n\u001b[0;32m--> 706\u001b[0;31m             \u001b[0mschema\u001b[0m \u001b[0;34m=\u001b[0m \u001b[0mself\u001b[0m\u001b[0;34m.\u001b[0m\u001b[0m_generate_schema_inner\u001b[0m\u001b[0;34m(\u001b[0m\u001b[0mobj\u001b[0m\u001b[0;34m)\u001b[0m\u001b[0;34m\u001b[0m\u001b[0;34m\u001b[0m\u001b[0m\n\u001b[0m\u001b[1;32m    707\u001b[0m \u001b[0;34m\u001b[0m\u001b[0m\n\u001b[1;32m    708\u001b[0m         \u001b[0mmetadata_js_function\u001b[0m \u001b[0;34m=\u001b[0m \u001b[0m_extract_get_pydantic_json_schema\u001b[0m\u001b[0;34m(\u001b[0m\u001b[0mobj\u001b[0m\u001b[0;34m)\u001b[0m\u001b[0;34m\u001b[0m\u001b[0;34m\u001b[0m\u001b[0m\n",
            "\u001b[0;32m/usr/local/lib/python3.11/dist-packages/pydantic/_internal/_generate_schema.py\u001b[0m in \u001b[0;36m_generate_schema_inner\u001b[0;34m(self, obj)\u001b[0m\n\u001b[1;32m    982\u001b[0m         \u001b[0;32mif\u001b[0m \u001b[0mlenient_issubclass\u001b[0m\u001b[0;34m(\u001b[0m\u001b[0mobj\u001b[0m\u001b[0;34m,\u001b[0m \u001b[0mBaseModel\u001b[0m\u001b[0;34m)\u001b[0m\u001b[0;34m:\u001b[0m\u001b[0;34m\u001b[0m\u001b[0;34m\u001b[0m\u001b[0m\n\u001b[1;32m    983\u001b[0m             \u001b[0;32mwith\u001b[0m \u001b[0mself\u001b[0m\u001b[0;34m.\u001b[0m\u001b[0mmodel_type_stack\u001b[0m\u001b[0;34m.\u001b[0m\u001b[0mpush\u001b[0m\u001b[0;34m(\u001b[0m\u001b[0mobj\u001b[0m\u001b[0;34m)\u001b[0m\u001b[0;34m:\u001b[0m\u001b[0;34m\u001b[0m\u001b[0;34m\u001b[0m\u001b[0m\n\u001b[0;32m--> 984\u001b[0;31m                 \u001b[0;32mreturn\u001b[0m \u001b[0mself\u001b[0m\u001b[0;34m.\u001b[0m\u001b[0m_model_schema\u001b[0m\u001b[0;34m(\u001b[0m\u001b[0mobj\u001b[0m\u001b[0;34m)\u001b[0m\u001b[0;34m\u001b[0m\u001b[0;34m\u001b[0m\u001b[0m\n\u001b[0m\u001b[1;32m    985\u001b[0m \u001b[0;34m\u001b[0m\u001b[0m\n\u001b[1;32m    986\u001b[0m         \u001b[0;32mif\u001b[0m \u001b[0misinstance\u001b[0m\u001b[0;34m(\u001b[0m\u001b[0mobj\u001b[0m\u001b[0;34m,\u001b[0m \u001b[0mPydanticRecursiveRef\u001b[0m\u001b[0;34m)\u001b[0m\u001b[0;34m:\u001b[0m\u001b[0;34m\u001b[0m\u001b[0;34m\u001b[0m\u001b[0m\n",
            "\u001b[0;32m/usr/local/lib/python3.11/dist-packages/pydantic/_internal/_generate_schema.py\u001b[0m in \u001b[0;36m_model_schema\u001b[0;34m(self, cls)\u001b[0m\n\u001b[1;32m    815\u001b[0m                 \u001b[0;32melse\u001b[0m\u001b[0;34m:\u001b[0m\u001b[0;34m\u001b[0m\u001b[0;34m\u001b[0m\u001b[0m\n\u001b[1;32m    816\u001b[0m                     fields_schema: core_schema.CoreSchema = core_schema.model_fields_schema(\n\u001b[0;32m--> 817\u001b[0;31m                         \u001b[0;34m{\u001b[0m\u001b[0mk\u001b[0m\u001b[0;34m:\u001b[0m \u001b[0mself\u001b[0m\u001b[0;34m.\u001b[0m\u001b[0m_generate_md_field_schema\u001b[0m\u001b[0;34m(\u001b[0m\u001b[0mk\u001b[0m\u001b[0;34m,\u001b[0m \u001b[0mv\u001b[0m\u001b[0;34m,\u001b[0m \u001b[0mdecorators\u001b[0m\u001b[0;34m)\u001b[0m \u001b[0;32mfor\u001b[0m \u001b[0mk\u001b[0m\u001b[0;34m,\u001b[0m \u001b[0mv\u001b[0m \u001b[0;32min\u001b[0m \u001b[0mfields\u001b[0m\u001b[0;34m.\u001b[0m\u001b[0mitems\u001b[0m\u001b[0;34m(\u001b[0m\u001b[0;34m)\u001b[0m\u001b[0;34m}\u001b[0m\u001b[0;34m,\u001b[0m\u001b[0;34m\u001b[0m\u001b[0;34m\u001b[0m\u001b[0m\n\u001b[0m\u001b[1;32m    818\u001b[0m                         computed_fields=[\n\u001b[1;32m    819\u001b[0m                             \u001b[0mself\u001b[0m\u001b[0;34m.\u001b[0m\u001b[0m_computed_field_schema\u001b[0m\u001b[0;34m(\u001b[0m\u001b[0md\u001b[0m\u001b[0;34m,\u001b[0m \u001b[0mdecorators\u001b[0m\u001b[0;34m.\u001b[0m\u001b[0mfield_serializers\u001b[0m\u001b[0;34m)\u001b[0m\u001b[0;34m\u001b[0m\u001b[0;34m\u001b[0m\u001b[0m\n",
            "\u001b[0;32m/usr/local/lib/python3.11/dist-packages/pydantic/_internal/_generate_schema.py\u001b[0m in \u001b[0;36m<dictcomp>\u001b[0;34m(.0)\u001b[0m\n\u001b[1;32m    815\u001b[0m                 \u001b[0;32melse\u001b[0m\u001b[0;34m:\u001b[0m\u001b[0;34m\u001b[0m\u001b[0;34m\u001b[0m\u001b[0m\n\u001b[1;32m    816\u001b[0m                     fields_schema: core_schema.CoreSchema = core_schema.model_fields_schema(\n\u001b[0;32m--> 817\u001b[0;31m                         \u001b[0;34m{\u001b[0m\u001b[0mk\u001b[0m\u001b[0;34m:\u001b[0m \u001b[0mself\u001b[0m\u001b[0;34m.\u001b[0m\u001b[0m_generate_md_field_schema\u001b[0m\u001b[0;34m(\u001b[0m\u001b[0mk\u001b[0m\u001b[0;34m,\u001b[0m \u001b[0mv\u001b[0m\u001b[0;34m,\u001b[0m \u001b[0mdecorators\u001b[0m\u001b[0;34m)\u001b[0m \u001b[0;32mfor\u001b[0m \u001b[0mk\u001b[0m\u001b[0;34m,\u001b[0m \u001b[0mv\u001b[0m \u001b[0;32min\u001b[0m \u001b[0mfields\u001b[0m\u001b[0;34m.\u001b[0m\u001b[0mitems\u001b[0m\u001b[0;34m(\u001b[0m\u001b[0;34m)\u001b[0m\u001b[0;34m}\u001b[0m\u001b[0;34m,\u001b[0m\u001b[0;34m\u001b[0m\u001b[0;34m\u001b[0m\u001b[0m\n\u001b[0m\u001b[1;32m    818\u001b[0m                         computed_fields=[\n\u001b[1;32m    819\u001b[0m                             \u001b[0mself\u001b[0m\u001b[0;34m.\u001b[0m\u001b[0m_computed_field_schema\u001b[0m\u001b[0;34m(\u001b[0m\u001b[0md\u001b[0m\u001b[0;34m,\u001b[0m \u001b[0mdecorators\u001b[0m\u001b[0;34m.\u001b[0m\u001b[0mfield_serializers\u001b[0m\u001b[0;34m)\u001b[0m\u001b[0;34m\u001b[0m\u001b[0;34m\u001b[0m\u001b[0m\n",
            "\u001b[0;32m/usr/local/lib/python3.11/dist-packages/pydantic/_internal/_generate_schema.py\u001b[0m in \u001b[0;36m_generate_md_field_schema\u001b[0;34m(self, name, field_info, decorators)\u001b[0m\n\u001b[1;32m   1184\u001b[0m     ) -> core_schema.ModelField:\n\u001b[1;32m   1185\u001b[0m         \u001b[0;34m\"\"\"Prepare a ModelField to represent a model field.\"\"\"\u001b[0m\u001b[0;34m\u001b[0m\u001b[0;34m\u001b[0m\u001b[0m\n\u001b[0;32m-> 1186\u001b[0;31m         \u001b[0mcommon_field\u001b[0m \u001b[0;34m=\u001b[0m \u001b[0mself\u001b[0m\u001b[0;34m.\u001b[0m\u001b[0m_common_field_schema\u001b[0m\u001b[0;34m(\u001b[0m\u001b[0mname\u001b[0m\u001b[0;34m,\u001b[0m \u001b[0mfield_info\u001b[0m\u001b[0;34m,\u001b[0m \u001b[0mdecorators\u001b[0m\u001b[0;34m)\u001b[0m\u001b[0;34m\u001b[0m\u001b[0;34m\u001b[0m\u001b[0m\n\u001b[0m\u001b[1;32m   1187\u001b[0m         return core_schema.model_field(\n\u001b[1;32m   1188\u001b[0m             \u001b[0mcommon_field\u001b[0m\u001b[0;34m[\u001b[0m\u001b[0;34m'schema'\u001b[0m\u001b[0;34m]\u001b[0m\u001b[0;34m,\u001b[0m\u001b[0;34m\u001b[0m\u001b[0;34m\u001b[0m\u001b[0m\n",
            "\u001b[0;32m/usr/local/lib/python3.11/dist-packages/pydantic/_internal/_generate_schema.py\u001b[0m in \u001b[0;36m_common_field_schema\u001b[0;34m(self, name, field_info, decorators)\u001b[0m\n\u001b[1;32m   1350\u001b[0m                 )\n\u001b[1;32m   1351\u001b[0m             \u001b[0;32melse\u001b[0m\u001b[0;34m:\u001b[0m\u001b[0;34m\u001b[0m\u001b[0;34m\u001b[0m\u001b[0m\n\u001b[0;32m-> 1352\u001b[0;31m                 schema = self._apply_annotations(\n\u001b[0m\u001b[1;32m   1353\u001b[0m                     \u001b[0msource_type\u001b[0m\u001b[0;34m,\u001b[0m\u001b[0;34m\u001b[0m\u001b[0;34m\u001b[0m\u001b[0m\n\u001b[1;32m   1354\u001b[0m                     \u001b[0mannotations\u001b[0m \u001b[0;34m+\u001b[0m \u001b[0mvalidators_from_decorators\u001b[0m\u001b[0;34m,\u001b[0m\u001b[0;34m\u001b[0m\u001b[0;34m\u001b[0m\u001b[0m\n",
            "\u001b[0;32m/usr/local/lib/python3.11/dist-packages/pydantic/_internal/_generate_schema.py\u001b[0m in \u001b[0;36m_apply_annotations\u001b[0;34m(self, source_type, annotations, transform_inner_schema)\u001b[0m\n\u001b[1;32m   2262\u001b[0m             )\n\u001b[1;32m   2263\u001b[0m \u001b[0;34m\u001b[0m\u001b[0m\n\u001b[0;32m-> 2264\u001b[0;31m         \u001b[0mschema\u001b[0m \u001b[0;34m=\u001b[0m \u001b[0mget_inner_schema\u001b[0m\u001b[0;34m(\u001b[0m\u001b[0msource_type\u001b[0m\u001b[0;34m)\u001b[0m\u001b[0;34m\u001b[0m\u001b[0;34m\u001b[0m\u001b[0m\n\u001b[0m\u001b[1;32m   2265\u001b[0m         \u001b[0;32mif\u001b[0m \u001b[0mpydantic_js_annotation_functions\u001b[0m\u001b[0;34m:\u001b[0m\u001b[0;34m\u001b[0m\u001b[0;34m\u001b[0m\u001b[0m\n\u001b[1;32m   2266\u001b[0m             \u001b[0mcore_metadata\u001b[0m \u001b[0;34m=\u001b[0m \u001b[0mschema\u001b[0m\u001b[0;34m.\u001b[0m\u001b[0msetdefault\u001b[0m\u001b[0;34m(\u001b[0m\u001b[0;34m'metadata'\u001b[0m\u001b[0;34m,\u001b[0m \u001b[0;34m{\u001b[0m\u001b[0;34m}\u001b[0m\u001b[0;34m)\u001b[0m\u001b[0;34m\u001b[0m\u001b[0;34m\u001b[0m\u001b[0m\n",
            "\u001b[0;32m/usr/local/lib/python3.11/dist-packages/pydantic/_internal/_schema_generation_shared.py\u001b[0m in \u001b[0;36m__call__\u001b[0;34m(self, source_type)\u001b[0m\n\u001b[1;32m     81\u001b[0m \u001b[0;34m\u001b[0m\u001b[0m\n\u001b[1;32m     82\u001b[0m     \u001b[0;32mdef\u001b[0m \u001b[0m__call__\u001b[0m\u001b[0;34m(\u001b[0m\u001b[0mself\u001b[0m\u001b[0;34m,\u001b[0m \u001b[0msource_type\u001b[0m\u001b[0;34m:\u001b[0m \u001b[0mAny\u001b[0m\u001b[0;34m,\u001b[0m \u001b[0;34m/\u001b[0m\u001b[0;34m)\u001b[0m \u001b[0;34m->\u001b[0m \u001b[0mcore_schema\u001b[0m\u001b[0;34m.\u001b[0m\u001b[0mCoreSchema\u001b[0m\u001b[0;34m:\u001b[0m\u001b[0;34m\u001b[0m\u001b[0;34m\u001b[0m\u001b[0m\n\u001b[0;32m---> 83\u001b[0;31m         \u001b[0mschema\u001b[0m \u001b[0;34m=\u001b[0m \u001b[0mself\u001b[0m\u001b[0;34m.\u001b[0m\u001b[0m_handler\u001b[0m\u001b[0;34m(\u001b[0m\u001b[0msource_type\u001b[0m\u001b[0;34m)\u001b[0m\u001b[0;34m\u001b[0m\u001b[0;34m\u001b[0m\u001b[0m\n\u001b[0m\u001b[1;32m     84\u001b[0m         \u001b[0;32mif\u001b[0m \u001b[0mself\u001b[0m\u001b[0;34m.\u001b[0m\u001b[0m_ref_mode\u001b[0m \u001b[0;34m==\u001b[0m \u001b[0;34m'to-def'\u001b[0m\u001b[0;34m:\u001b[0m\u001b[0;34m\u001b[0m\u001b[0;34m\u001b[0m\u001b[0m\n\u001b[1;32m     85\u001b[0m             \u001b[0mref\u001b[0m \u001b[0;34m=\u001b[0m \u001b[0mschema\u001b[0m\u001b[0;34m.\u001b[0m\u001b[0mget\u001b[0m\u001b[0;34m(\u001b[0m\u001b[0;34m'ref'\u001b[0m\u001b[0;34m)\u001b[0m\u001b[0;34m\u001b[0m\u001b[0;34m\u001b[0m\u001b[0m\n",
            "\u001b[0;32m/usr/local/lib/python3.11/dist-packages/pydantic/_internal/_generate_schema.py\u001b[0m in \u001b[0;36minner_handler\u001b[0;34m(obj)\u001b[0m\n\u001b[1;32m   2241\u001b[0m \u001b[0;34m\u001b[0m\u001b[0m\n\u001b[1;32m   2242\u001b[0m         \u001b[0;32mdef\u001b[0m \u001b[0minner_handler\u001b[0m\u001b[0;34m(\u001b[0m\u001b[0mobj\u001b[0m\u001b[0;34m:\u001b[0m \u001b[0mAny\u001b[0m\u001b[0;34m)\u001b[0m \u001b[0;34m->\u001b[0m \u001b[0mCoreSchema\u001b[0m\u001b[0;34m:\u001b[0m\u001b[0;34m\u001b[0m\u001b[0;34m\u001b[0m\u001b[0m\n\u001b[0;32m-> 2243\u001b[0;31m             \u001b[0mschema\u001b[0m \u001b[0;34m=\u001b[0m \u001b[0mself\u001b[0m\u001b[0;34m.\u001b[0m\u001b[0m_generate_schema_from_get_schema_method\u001b[0m\u001b[0;34m(\u001b[0m\u001b[0mobj\u001b[0m\u001b[0;34m,\u001b[0m \u001b[0msource_type\u001b[0m\u001b[0;34m)\u001b[0m\u001b[0;34m\u001b[0m\u001b[0;34m\u001b[0m\u001b[0m\n\u001b[0m\u001b[1;32m   2244\u001b[0m \u001b[0;34m\u001b[0m\u001b[0m\n\u001b[1;32m   2245\u001b[0m             \u001b[0;32mif\u001b[0m \u001b[0mschema\u001b[0m \u001b[0;32mis\u001b[0m \u001b[0;32mNone\u001b[0m\u001b[0;34m:\u001b[0m\u001b[0;34m\u001b[0m\u001b[0;34m\u001b[0m\u001b[0m\n",
            "\u001b[0;32m/usr/local/lib/python3.11/dist-packages/pydantic/_internal/_generate_schema.py\u001b[0m in \u001b[0;36m_generate_schema_from_get_schema_method\u001b[0;34m(self, obj, source)\u001b[0m\n\u001b[1;32m    878\u001b[0m             \u001b[0;32melse\u001b[0m\u001b[0;34m:\u001b[0m\u001b[0;34m\u001b[0m\u001b[0;34m\u001b[0m\u001b[0m\n\u001b[1;32m    879\u001b[0m                 \u001b[0mref_mode\u001b[0m \u001b[0;34m=\u001b[0m \u001b[0;34m'to-def'\u001b[0m\u001b[0;34m\u001b[0m\u001b[0;34m\u001b[0m\u001b[0m\n\u001b[0;32m--> 880\u001b[0;31m             schema = get_schema(\n\u001b[0m\u001b[1;32m    881\u001b[0m                 \u001b[0msource\u001b[0m\u001b[0;34m,\u001b[0m \u001b[0mCallbackGetCoreSchemaHandler\u001b[0m\u001b[0;34m(\u001b[0m\u001b[0mself\u001b[0m\u001b[0;34m.\u001b[0m\u001b[0m_generate_schema_inner\u001b[0m\u001b[0;34m,\u001b[0m \u001b[0mself\u001b[0m\u001b[0;34m,\u001b[0m \u001b[0mref_mode\u001b[0m\u001b[0;34m=\u001b[0m\u001b[0mref_mode\u001b[0m\u001b[0;34m)\u001b[0m\u001b[0;34m\u001b[0m\u001b[0;34m\u001b[0m\u001b[0m\n\u001b[1;32m    882\u001b[0m             )\n",
            "\u001b[0;32m/usr/local/lib/python3.11/dist-packages/pydantic/networks.py\u001b[0m in \u001b[0;36m__get_pydantic_core_schema__\u001b[0;34m(cls, _source, _handler)\u001b[0m\n\u001b[1;32m    984\u001b[0m             \u001b[0m_handler\u001b[0m\u001b[0;34m:\u001b[0m \u001b[0mGetCoreSchemaHandler\u001b[0m\u001b[0;34m,\u001b[0m\u001b[0;34m\u001b[0m\u001b[0;34m\u001b[0m\u001b[0m\n\u001b[1;32m    985\u001b[0m         ) -> core_schema.CoreSchema:\n\u001b[0;32m--> 986\u001b[0;31m             \u001b[0mimport_email_validator\u001b[0m\u001b[0;34m(\u001b[0m\u001b[0;34m)\u001b[0m\u001b[0;34m\u001b[0m\u001b[0;34m\u001b[0m\u001b[0m\n\u001b[0m\u001b[1;32m    987\u001b[0m             \u001b[0;32mreturn\u001b[0m \u001b[0mcore_schema\u001b[0m\u001b[0;34m.\u001b[0m\u001b[0mno_info_after_validator_function\u001b[0m\u001b[0;34m(\u001b[0m\u001b[0mcls\u001b[0m\u001b[0;34m.\u001b[0m\u001b[0m_validate\u001b[0m\u001b[0;34m,\u001b[0m \u001b[0mcore_schema\u001b[0m\u001b[0;34m.\u001b[0m\u001b[0mstr_schema\u001b[0m\u001b[0;34m(\u001b[0m\u001b[0;34m)\u001b[0m\u001b[0;34m)\u001b[0m\u001b[0;34m\u001b[0m\u001b[0;34m\u001b[0m\u001b[0m\n\u001b[1;32m    988\u001b[0m \u001b[0;34m\u001b[0m\u001b[0m\n",
            "\u001b[0;32m/usr/local/lib/python3.11/dist-packages/pydantic/networks.py\u001b[0m in \u001b[0;36mimport_email_validator\u001b[0;34m()\u001b[0m\n\u001b[1;32m    946\u001b[0m         \u001b[0;32mimport\u001b[0m \u001b[0memail_validator\u001b[0m\u001b[0;34m\u001b[0m\u001b[0;34m\u001b[0m\u001b[0m\n\u001b[1;32m    947\u001b[0m     \u001b[0;32mexcept\u001b[0m \u001b[0mImportError\u001b[0m \u001b[0;32mas\u001b[0m \u001b[0me\u001b[0m\u001b[0;34m:\u001b[0m\u001b[0;34m\u001b[0m\u001b[0;34m\u001b[0m\u001b[0m\n\u001b[0;32m--> 948\u001b[0;31m         \u001b[0;32mraise\u001b[0m \u001b[0mImportError\u001b[0m\u001b[0;34m(\u001b[0m\u001b[0;34m'email-validator is not installed, run `pip install pydantic[email]`'\u001b[0m\u001b[0;34m)\u001b[0m \u001b[0;32mfrom\u001b[0m \u001b[0me\u001b[0m\u001b[0;34m\u001b[0m\u001b[0;34m\u001b[0m\u001b[0m\n\u001b[0m\u001b[1;32m    949\u001b[0m     \u001b[0;32mif\u001b[0m \u001b[0;32mnot\u001b[0m \u001b[0mversion\u001b[0m\u001b[0;34m(\u001b[0m\u001b[0;34m'email-validator'\u001b[0m\u001b[0;34m)\u001b[0m\u001b[0;34m.\u001b[0m\u001b[0mpartition\u001b[0m\u001b[0;34m(\u001b[0m\u001b[0;34m'.'\u001b[0m\u001b[0;34m)\u001b[0m\u001b[0;34m[\u001b[0m\u001b[0;36m0\u001b[0m\u001b[0;34m]\u001b[0m \u001b[0;34m==\u001b[0m \u001b[0;34m'2'\u001b[0m\u001b[0;34m:\u001b[0m\u001b[0;34m\u001b[0m\u001b[0;34m\u001b[0m\u001b[0m\n\u001b[1;32m    950\u001b[0m         \u001b[0;32mraise\u001b[0m \u001b[0mImportError\u001b[0m\u001b[0;34m(\u001b[0m\u001b[0;34m'email-validator version >= 2.0 required, run pip install -U email-validator'\u001b[0m\u001b[0;34m)\u001b[0m\u001b[0;34m\u001b[0m\u001b[0;34m\u001b[0m\u001b[0m\n",
            "\u001b[0;31mImportError\u001b[0m: email-validator is not installed, run `pip install pydantic[email]`",
            "",
            "\u001b[0;31m---------------------------------------------------------------------------\u001b[0;32m\nNOTE: If your import is failing due to a missing package, you can\nmanually install dependencies using either !pip or !apt.\n\nTo view examples of installing some common dependencies, click the\n\"Open Examples\" button below.\n\u001b[0;31m---------------------------------------------------------------------------\u001b[0m\n"
          ],
          "errorDetails": {
            "actions": [
              {
                "action": "open_url",
                "actionText": "Open Examples",
                "url": "/notebooks/snippets/importing_libraries.ipynb"
              }
            ]
          }
        }
      ]
    },
    {
      "cell_type": "markdown",
      "source": [
        "**L'erreur:** Monque de l'installation de  pydantic[email] et email de type EmailStr\n",
        "\n",
        "**La solution:** Il faut installer  pydantic[email] et  changer la valeur donnée pour email"
      ],
      "metadata": {
        "id": "dMJ5h5qlzrRv"
      }
    },
    {
      "cell_type": "code",
      "source": [
        "pip install pydantic[email]"
      ],
      "metadata": {
        "colab": {
          "base_uri": "https://localhost:8080/"
        },
        "id": "mdjZ0WUO05nR",
        "outputId": "a4fd5362-e023-4b60-c818-17fd3f6c8565"
      },
      "execution_count": null,
      "outputs": [
        {
          "output_type": "stream",
          "name": "stdout",
          "text": [
            "Requirement already satisfied: pydantic[email] in /usr/local/lib/python3.11/dist-packages (2.11.3)\n",
            "Requirement already satisfied: annotated-types>=0.6.0 in /usr/local/lib/python3.11/dist-packages (from pydantic[email]) (0.7.0)\n",
            "Requirement already satisfied: pydantic-core==2.33.1 in /usr/local/lib/python3.11/dist-packages (from pydantic[email]) (2.33.1)\n",
            "Requirement already satisfied: typing-extensions>=4.12.2 in /usr/local/lib/python3.11/dist-packages (from pydantic[email]) (4.13.2)\n",
            "Requirement already satisfied: typing-inspection>=0.4.0 in /usr/local/lib/python3.11/dist-packages (from pydantic[email]) (0.4.0)\n",
            "Collecting email-validator>=2.0.0 (from pydantic[email])\n",
            "  Downloading email_validator-2.2.0-py3-none-any.whl.metadata (25 kB)\n",
            "Collecting dnspython>=2.0.0 (from email-validator>=2.0.0->pydantic[email])\n",
            "  Downloading dnspython-2.7.0-py3-none-any.whl.metadata (5.8 kB)\n",
            "Requirement already satisfied: idna>=2.0.0 in /usr/local/lib/python3.11/dist-packages (from email-validator>=2.0.0->pydantic[email]) (3.10)\n",
            "Downloading email_validator-2.2.0-py3-none-any.whl (33 kB)\n",
            "Downloading dnspython-2.7.0-py3-none-any.whl (313 kB)\n",
            "\u001b[2K   \u001b[90m━━━━━━━━━━━━━━━━━━━━━━━━━━━━━━━━━━━━━━━━\u001b[0m \u001b[32m313.6/313.6 kB\u001b[0m \u001b[31m8.5 MB/s\u001b[0m eta \u001b[36m0:00:00\u001b[0m\n",
            "\u001b[?25hInstalling collected packages: dnspython, email-validator\n",
            "Successfully installed dnspython-2.7.0 email-validator-2.2.0\n"
          ]
        }
      ]
    },
    {
      "cell_type": "code",
      "source": [
        "from pydantic import BaseModel, EmailStr\n",
        "\n",
        "class User(BaseModel):\n",
        "    name: str\n",
        "    email: EmailStr\n",
        "    account_id: int\n",
        "\n",
        "user = User(name=\"Ali\", email=\"ali@gmail.com\", account_id=12345)\n",
        "print(user)"
      ],
      "metadata": {
        "colab": {
          "base_uri": "https://localhost:8080/"
        },
        "id": "QTj06L-n09RN",
        "outputId": "5e8d437a-e3c7-408a-eefd-7fc3992ad1f9"
      },
      "execution_count": null,
      "outputs": [
        {
          "output_type": "stream",
          "name": "stdout",
          "text": [
            "name='Ali' email='ali@gmail.com' account_id=12345\n"
          ]
        }
      ]
    },
    {
      "cell_type": "markdown",
      "source": [
        "1.4-Custom Field Validation:\n"
      ],
      "metadata": {
        "id": "ZesBW1Lt1Vcw"
      }
    },
    {
      "cell_type": "markdown",
      "source": [
        "1.4.1-Validation logic to your model:"
      ],
      "metadata": {
        "id": "VVAcDEDq1bFT"
      }
    },
    {
      "cell_type": "code",
      "source": [
        "@field_validator(\"account_id\")\n",
        "def validate_account_id(cls, value):\n",
        "    if value <= 0:\n",
        "        raise ValueError(f\"account_id must be positive: {value}\")\n",
        "    return value"
      ],
      "metadata": {
        "id": "_EfGAgpU1eDu"
      },
      "execution_count": null,
      "outputs": []
    },
    {
      "cell_type": "markdown",
      "source": [
        "1.4.2-Example with a negative account_id, you will get a validation error:"
      ],
      "metadata": {
        "id": "9QGayO2A1h1m"
      }
    },
    {
      "cell_type": "code",
      "source": [
        "# you will get a validation error with account_id = -12\n",
        "user = User(name = 'Ali', email = 'ali', account_id = -12)\n",
        "print(user)"
      ],
      "metadata": {
        "colab": {
          "base_uri": "https://localhost:8080/",
          "height": 402
        },
        "id": "xIvV66ir1lck",
        "outputId": "d0cdacb7-09eb-4598-b501-19d43175db3e"
      },
      "execution_count": null,
      "outputs": [
        {
          "output_type": "error",
          "ename": "ValidationError",
          "evalue": "1 validation error for User\nemail\n  value is not a valid email address: An email address must have an @-sign. [type=value_error, input_value='ali', input_type=str]",
          "traceback": [
            "\u001b[0;31m---------------------------------------------------------------------------\u001b[0m",
            "\u001b[0;31mValidationError\u001b[0m                           Traceback (most recent call last)",
            "\u001b[0;32m<ipython-input-13-2fb69e9ec8b5>\u001b[0m in \u001b[0;36m<cell line: 0>\u001b[0;34m()\u001b[0m\n\u001b[1;32m      1\u001b[0m \u001b[0;31m# you will get a validation error with account_id = -12\u001b[0m\u001b[0;34m\u001b[0m\u001b[0;34m\u001b[0m\u001b[0m\n\u001b[0;32m----> 2\u001b[0;31m \u001b[0muser\u001b[0m \u001b[0;34m=\u001b[0m \u001b[0mUser\u001b[0m\u001b[0;34m(\u001b[0m\u001b[0mname\u001b[0m \u001b[0;34m=\u001b[0m \u001b[0;34m'Ali'\u001b[0m\u001b[0;34m,\u001b[0m \u001b[0memail\u001b[0m \u001b[0;34m=\u001b[0m \u001b[0;34m'ali'\u001b[0m\u001b[0;34m,\u001b[0m \u001b[0maccount_id\u001b[0m \u001b[0;34m=\u001b[0m \u001b[0;34m-\u001b[0m\u001b[0;36m12\u001b[0m\u001b[0;34m)\u001b[0m\u001b[0;34m\u001b[0m\u001b[0;34m\u001b[0m\u001b[0m\n\u001b[0m\u001b[1;32m      3\u001b[0m \u001b[0mprint\u001b[0m\u001b[0;34m(\u001b[0m\u001b[0muser\u001b[0m\u001b[0;34m)\u001b[0m\u001b[0;34m\u001b[0m\u001b[0;34m\u001b[0m\u001b[0m\n",
            "\u001b[0;32m/usr/local/lib/python3.11/dist-packages/pydantic/main.py\u001b[0m in \u001b[0;36m__init__\u001b[0;34m(self, **data)\u001b[0m\n\u001b[1;32m    251\u001b[0m         \u001b[0;31m# `__tracebackhide__` tells pytest and some other tools to omit this function from tracebacks\u001b[0m\u001b[0;34m\u001b[0m\u001b[0;34m\u001b[0m\u001b[0m\n\u001b[1;32m    252\u001b[0m         \u001b[0m__tracebackhide__\u001b[0m \u001b[0;34m=\u001b[0m \u001b[0;32mTrue\u001b[0m\u001b[0;34m\u001b[0m\u001b[0;34m\u001b[0m\u001b[0m\n\u001b[0;32m--> 253\u001b[0;31m         \u001b[0mvalidated_self\u001b[0m \u001b[0;34m=\u001b[0m \u001b[0mself\u001b[0m\u001b[0;34m.\u001b[0m\u001b[0m__pydantic_validator__\u001b[0m\u001b[0;34m.\u001b[0m\u001b[0mvalidate_python\u001b[0m\u001b[0;34m(\u001b[0m\u001b[0mdata\u001b[0m\u001b[0;34m,\u001b[0m \u001b[0mself_instance\u001b[0m\u001b[0;34m=\u001b[0m\u001b[0mself\u001b[0m\u001b[0;34m)\u001b[0m\u001b[0;34m\u001b[0m\u001b[0;34m\u001b[0m\u001b[0m\n\u001b[0m\u001b[1;32m    254\u001b[0m         \u001b[0;32mif\u001b[0m \u001b[0mself\u001b[0m \u001b[0;32mis\u001b[0m \u001b[0;32mnot\u001b[0m \u001b[0mvalidated_self\u001b[0m\u001b[0;34m:\u001b[0m\u001b[0;34m\u001b[0m\u001b[0;34m\u001b[0m\u001b[0m\n\u001b[1;32m    255\u001b[0m             warnings.warn(\n",
            "\u001b[0;31mValidationError\u001b[0m: 1 validation error for User\nemail\n  value is not a valid email address: An email address must have an @-sign. [type=value_error, input_value='ali', input_type=str]"
          ]
        }
      ]
    },
    {
      "cell_type": "markdown",
      "source": [
        "**L'erreur:** account_id a une valeur negative et email a un valeur deffirent de EmailStr\n",
        "\n",
        "**La solution:** Il faut changer la valeur par une autre positive et changer la valeur donée pour email"
      ],
      "metadata": {
        "id": "bEN34Ikj1rB7"
      }
    },
    {
      "cell_type": "code",
      "source": [
        "user = User(name = 'Ali', email = 'ali@gmail.com', account_id = 12)\n",
        "print(user)"
      ],
      "metadata": {
        "colab": {
          "base_uri": "https://localhost:8080/"
        },
        "id": "QBgXyIGE179y",
        "outputId": "cd1061e9-f86f-4bab-ce02-67ab65da894a"
      },
      "execution_count": null,
      "outputs": [
        {
          "output_type": "stream",
          "name": "stdout",
          "text": [
            "name='Ali' email='ali@gmail.com' account_id=12\n"
          ]
        }
      ]
    },
    {
      "cell_type": "markdown",
      "source": [
        "1.5-JSON Serialization :"
      ],
      "metadata": {
        "id": "dVVkoWMa3-1k"
      }
    },
    {
      "cell_type": "markdown",
      "source": [
        "1.5.1-Convert a Pydantic model to JSON:"
      ],
      "metadata": {
        "id": "ESVCI8FB4AML"
      }
    },
    {
      "cell_type": "code",
      "source": [
        "user_json_str = user.model_dump_json()\n",
        "# this will return a JSON strinf representation of the model's data\n",
        "print(user_json_str)"
      ],
      "metadata": {
        "colab": {
          "base_uri": "https://localhost:8080/"
        },
        "id": "SuaFwp4_4HbE",
        "outputId": "1223b6bb-44da-4878-8020-fbb92bb7fff5"
      },
      "execution_count": null,
      "outputs": [
        {
          "output_type": "stream",
          "name": "stdout",
          "text": [
            "{\"name\":\"Ali\",\"email\":\"ali@gmail.com\",\"account_id\":12}\n"
          ]
        }
      ]
    },
    {
      "cell_type": "markdown",
      "source": [
        "1.5.2-Use the model_dump method:"
      ],
      "metadata": {
        "id": "LomUZfug4KZU"
      }
    },
    {
      "cell_type": "code",
      "source": [
        "user_json_obj = user.model_dump()"
      ],
      "metadata": {
        "id": "rK876O3e4PXP"
      },
      "execution_count": null,
      "outputs": []
    },
    {
      "cell_type": "markdown",
      "source": [
        "1.5.3-Use the parse_raw() method"
      ],
      "metadata": {
        "id": "_KpKSmMr4amo"
      }
    },
    {
      "cell_type": "code",
      "source": [
        "json_str = {\"name\": \"Ali, \"email\": \"ali@gmail.com\", \"account_id\": 1234}\n",
        "user = user.parse_raw(json_str)"
      ],
      "metadata": {
        "colab": {
          "base_uri": "https://localhost:8080/",
          "height": 159
        },
        "id": "ITzeIA0F4o-a",
        "outputId": "730e8e5c-b675-4684-cc95-64e9d75aa95d"
      },
      "execution_count": null,
      "outputs": [
        {
          "output_type": "error",
          "ename": "NameError",
          "evalue": "name 'name' is not defined",
          "traceback": [
            "\u001b[0;31m---------------------------------------------------------------------------\u001b[0m",
            "\u001b[0;31mNameError\u001b[0m                                 Traceback (most recent call last)",
            "\u001b[0;32m<ipython-input-20-79b76ea6cfed>\u001b[0m in \u001b[0;36m<cell line: 0>\u001b[0;34m()\u001b[0m\n\u001b[0;32m----> 1\u001b[0;31m \u001b[0mjson_str\u001b[0m \u001b[0;34m=\u001b[0m \u001b[0;34m{\u001b[0m\u001b[0mname\u001b[0m\u001b[0;34m:\u001b[0m \u001b[0;34m\"Ali\"\u001b[0m\u001b[0;34m,\u001b[0m \u001b[0memail\u001b[0m\u001b[0;34m:\u001b[0m \u001b[0;34m\"ali@gmail.com\"\u001b[0m\u001b[0;34m,\u001b[0m \u001b[0maccount_id\u001b[0m\u001b[0;34m:\u001b[0m \u001b[0;36m1234\u001b[0m\u001b[0;34m}\u001b[0m\u001b[0;34m\u001b[0m\u001b[0;34m\u001b[0m\u001b[0m\n\u001b[0m\u001b[1;32m      2\u001b[0m \u001b[0muser\u001b[0m \u001b[0;34m=\u001b[0m \u001b[0muser\u001b[0m\u001b[0;34m.\u001b[0m\u001b[0mparse_raw\u001b[0m\u001b[0;34m(\u001b[0m\u001b[0mjson_str\u001b[0m\u001b[0;34m)\u001b[0m\u001b[0;34m\u001b[0m\u001b[0;34m\u001b[0m\u001b[0m\n",
            "\u001b[0;31mNameError\u001b[0m: name 'name' is not defined"
          ]
        }
      ]
    },
    {
      "cell_type": "markdown",
      "source": [
        "**L'erreur:**SyntaxError (guillemet manquant après \"Ali) et NameError (user non défini avant utilisation).\n",
        "\n",
        "**La solution:**Ajoutez le guillemet manquant (\"name\": \"Ali\") et utilisez User.parse_raw() (classe) au lieu de user.parse_raw()."
      ],
      "metadata": {
        "id": "Q7vEC6tl605z"
      }
    },
    {
      "cell_type": "code",
      "source": [
        "from pydantic import BaseModel\n",
        "import json\n",
        "\n",
        "class User(BaseModel):\n",
        "    name: str\n",
        "    email: str\n",
        "    account_id: int\n",
        "\n",
        "json_str = '{\"name\": \"Ali\", \"email\": \"ali@gmail.com\", \"account_id\": 1234}'\n",
        "\n",
        "user = User.parse_raw(json_str)\n",
        "\n",
        "print(user)"
      ],
      "metadata": {
        "colab": {
          "base_uri": "https://localhost:8080/"
        },
        "id": "xT3zRdCv5Usf",
        "outputId": "9a60c698-a88c-4098-9251-91c74fdc4ad1"
      },
      "execution_count": null,
      "outputs": [
        {
          "output_type": "stream",
          "name": "stdout",
          "text": [
            "name='Ali' email='ali@gmail.com' account_id=1234\n"
          ]
        },
        {
          "output_type": "stream",
          "name": "stderr",
          "text": [
            "<ipython-input-24-771648ce45ef>:11: PydanticDeprecatedSince20: The `parse_raw` method is deprecated; if your data is JSON use `model_validate_json`, otherwise load the data then use `model_validate` instead. Deprecated in Pydantic V2.0 to be removed in V3.0. See Pydantic V2 Migration Guide at https://errors.pydantic.dev/2.11/migration/\n",
            "  user = User.parse_raw(json_str)\n"
          ]
        }
      ]
    },
    {
      "cell_type": "markdown",
      "source": [
        "1.6-Pydantic vs Dataclasses:"
      ],
      "metadata": {
        "id": "_oGapTWD6-A1"
      }
    },
    {
      "cell_type": "markdown",
      "source": [
        "1.6.1-Specify type hints like the following code:"
      ],
      "metadata": {
        "id": "7_dCmn_f6-4Y"
      }
    },
    {
      "cell_type": "code",
      "source": [
        "# Python 3.6+\n",
        "x: int = 0\n",
        "y: str = \"hello\""
      ],
      "metadata": {
        "id": "KVpJIMnj7CGz"
      },
      "execution_count": null,
      "outputs": []
    },
    {
      "cell_type": "markdown",
      "source": [
        "1.6.2-Create a class with fields:"
      ],
      "metadata": {
        "id": "CJuByb1Z7ElH"
      }
    },
    {
      "cell_type": "code",
      "source": [
        "from dataclasses import dataclass\n",
        "\n",
        "@dataclass\n",
        "class User:\n",
        "    name: str\n",
        "    email: str\n",
        "    account_id: int"
      ],
      "metadata": {
        "id": "vhEutq2l7Hh9"
      },
      "execution_count": null,
      "outputs": []
    },
    {
      "cell_type": "markdown",
      "source": [
        "**2-Requests:**"
      ],
      "metadata": {
        "id": "5NucmlJuTO1E"
      }
    },
    {
      "cell_type": "markdown",
      "source": [
        "2.1-GET Request:"
      ],
      "metadata": {
        "id": "dZn0h-Cf7fg4"
      }
    },
    {
      "cell_type": "markdown",
      "source": [
        "2.1.1-Install  Requests Python module:"
      ],
      "metadata": {
        "id": "D7pa0Q-j7q81"
      }
    },
    {
      "cell_type": "code",
      "source": [
        "pip install requests"
      ],
      "metadata": {
        "colab": {
          "base_uri": "https://localhost:8080/"
        },
        "id": "RcZ9faT17p8R",
        "outputId": "4bcb4c8d-8af8-4fbd-b5db-1fde68d1170e"
      },
      "execution_count": null,
      "outputs": [
        {
          "output_type": "stream",
          "name": "stdout",
          "text": [
            "Requirement already satisfied: requests in /usr/local/lib/python3.11/dist-packages (2.32.3)\n",
            "Requirement already satisfied: charset-normalizer<4,>=2 in /usr/local/lib/python3.11/dist-packages (from requests) (3.4.1)\n",
            "Requirement already satisfied: idna<4,>=2.5 in /usr/local/lib/python3.11/dist-packages (from requests) (3.10)\n",
            "Requirement already satisfied: urllib3<3,>=1.21.1 in /usr/local/lib/python3.11/dist-packages (from requests) (2.3.0)\n",
            "Requirement already satisfied: certifi>=2017.4.17 in /usr/local/lib/python3.11/dist-packages (from requests) (2025.1.31)\n"
          ]
        }
      ]
    },
    {
      "cell_type": "markdown",
      "source": [
        "2.1.2.1-Make a simple GET request to a website:"
      ],
      "metadata": {
        "id": "sQequxQK7ySE"
      }
    },
    {
      "cell_type": "code",
      "source": [
        "import requests\n",
        "\n",
        "url = \"https://www.example.com\"\n",
        "response = requests.get(url)"
      ],
      "metadata": {
        "id": "B1bPGuQG70yI"
      },
      "execution_count": null,
      "outputs": []
    },
    {
      "cell_type": "markdown",
      "source": [
        "2.1.2.2-To show the result:"
      ],
      "metadata": {
        "id": "NhOsA7Rr76oW"
      }
    },
    {
      "cell_type": "code",
      "source": [
        "# it will show the HTTP status code\n",
        "print(response)"
      ],
      "metadata": {
        "colab": {
          "base_uri": "https://localhost:8080/"
        },
        "id": "IbcdI02D77Q6",
        "outputId": "94939cdd-e06e-4b8f-ca2f-b1c7d9a97428"
      },
      "execution_count": null,
      "outputs": [
        {
          "output_type": "stream",
          "name": "stdout",
          "text": [
            "<Response [200]>\n"
          ]
        }
      ]
    },
    {
      "cell_type": "markdown",
      "source": [
        "2.2-HTTP Status Codes:"
      ],
      "metadata": {
        "id": "a_iAIR-d7-5m"
      }
    },
    {
      "cell_type": "markdown",
      "source": [
        "2.2.1-To get the status code attribute of the response object:"
      ],
      "metadata": {
        "id": "ocvavPp28D1K"
      }
    },
    {
      "cell_type": "code",
      "source": [
        "print(response.status_code)"
      ],
      "metadata": {
        "colab": {
          "base_uri": "https://localhost:8080/"
        },
        "id": "R0FHJGfO8EXP",
        "outputId": "fc5189e2-93fa-4e62-cc10-7784abc50581"
      },
      "execution_count": null,
      "outputs": [
        {
          "output_type": "stream",
          "name": "stdout",
          "text": [
            "200\n"
          ]
        }
      ]
    },
    {
      "cell_type": "markdown",
      "source": [
        "2.3-Request Content:"
      ],
      "metadata": {
        "id": "mBIyGzyr8I6y"
      }
    },
    {
      "cell_type": "markdown",
      "source": [
        "2.3.1-To show the response content:"
      ],
      "metadata": {
        "id": "kv0hPcU78N0m"
      }
    },
    {
      "cell_type": "code",
      "source": [
        "import requests\n",
        "\n",
        "response = requests.get(\"https://www.example.com\")\n",
        "print(repsonse.content)"
      ],
      "metadata": {
        "colab": {
          "base_uri": "https://localhost:8080/",
          "height": 176
        },
        "id": "40AQWK3L8Po6",
        "outputId": "dee013e1-9f15-42be-d616-e0ce25cf52d6"
      },
      "execution_count": null,
      "outputs": [
        {
          "output_type": "error",
          "ename": "NameError",
          "evalue": "name 'repsonse' is not defined",
          "traceback": [
            "\u001b[0;31m---------------------------------------------------------------------------\u001b[0m",
            "\u001b[0;31mNameError\u001b[0m                                 Traceback (most recent call last)",
            "\u001b[0;32m<ipython-input-31-e75114b14437>\u001b[0m in \u001b[0;36m<cell line: 0>\u001b[0;34m()\u001b[0m\n\u001b[1;32m      2\u001b[0m \u001b[0;34m\u001b[0m\u001b[0m\n\u001b[1;32m      3\u001b[0m \u001b[0mresponse\u001b[0m \u001b[0;34m=\u001b[0m \u001b[0mrequests\u001b[0m\u001b[0;34m.\u001b[0m\u001b[0mget\u001b[0m\u001b[0;34m(\u001b[0m\u001b[0;34m\"https://www.example.com\"\u001b[0m\u001b[0;34m)\u001b[0m\u001b[0;34m\u001b[0m\u001b[0;34m\u001b[0m\u001b[0m\n\u001b[0;32m----> 4\u001b[0;31m \u001b[0mprint\u001b[0m\u001b[0;34m(\u001b[0m\u001b[0mrepsonse\u001b[0m\u001b[0;34m.\u001b[0m\u001b[0mcontent\u001b[0m\u001b[0;34m)\u001b[0m\u001b[0;34m\u001b[0m\u001b[0;34m\u001b[0m\u001b[0m\n\u001b[0m",
            "\u001b[0;31mNameError\u001b[0m: name 'repsonse' is not defined"
          ]
        }
      ]
    },
    {
      "cell_type": "markdown",
      "source": [
        "**L'erreur:**La variable repsonse introuvable (qui n'existe pas).\n",
        "\n",
        "\n",
        "**La solution:**Changer par la variable correcte est response."
      ],
      "metadata": {
        "id": "4eoh4UeC8oiO"
      }
    },
    {
      "cell_type": "code",
      "source": [
        "import requests\n",
        "\n",
        "response = requests.get(\"https://www.example.com\")\n",
        "print(response.content)"
      ],
      "metadata": {
        "colab": {
          "base_uri": "https://localhost:8080/"
        },
        "id": "KoSJMOwu8hRd",
        "outputId": "85d4cfe8-1389-409b-da36-4f4ee6d70136"
      },
      "execution_count": null,
      "outputs": [
        {
          "output_type": "stream",
          "name": "stdout",
          "text": [
            "b'<!doctype html>\\n<html>\\n<head>\\n    <title>Example Domain</title>\\n\\n    <meta charset=\"utf-8\" />\\n    <meta http-equiv=\"Content-type\" content=\"text/html; charset=utf-8\" />\\n    <meta name=\"viewport\" content=\"width=device-width, initial-scale=1\" />\\n    <style type=\"text/css\">\\n    body {\\n        background-color: #f0f0f2;\\n        margin: 0;\\n        padding: 0;\\n        font-family: -apple-system, system-ui, BlinkMacSystemFont, \"Segoe UI\", \"Open Sans\", \"Helvetica Neue\", Helvetica, Arial, sans-serif;\\n        \\n    }\\n    div {\\n        width: 600px;\\n        margin: 5em auto;\\n        padding: 2em;\\n        background-color: #fdfdff;\\n        border-radius: 0.5em;\\n        box-shadow: 2px 3px 7px 2px rgba(0,0,0,0.02);\\n    }\\n    a:link, a:visited {\\n        color: #38488f;\\n        text-decoration: none;\\n    }\\n    @media (max-width: 700px) {\\n        div {\\n            margin: 0 auto;\\n            width: auto;\\n        }\\n    }\\n    </style>    \\n</head>\\n\\n<body>\\n<div>\\n    <h1>Example Domain</h1>\\n    <p>This domain is for use in illustrative examples in documents. You may use this\\n    domain in literature without prior coordination or asking for permission.</p>\\n    <p><a href=\"https://www.iana.org/domains/example\">More information...</a></p>\\n</div>\\n</body>\\n</html>\\n'\n"
          ]
        }
      ]
    },
    {
      "cell_type": "markdown",
      "source": [
        "2.4-POST Request:"
      ],
      "metadata": {
        "id": "1oesldpJ9j1P"
      }
    },
    {
      "cell_type": "markdown",
      "source": [
        "2.4.1-Create a post or submit a blog:"
      ],
      "metadata": {
        "id": "9ueAtRKe9k80"
      }
    },
    {
      "cell_type": "code",
      "source": [
        "data = {\"name\": \"Salah\", \"message\": \"Hello!\"}\n",
        "url = \"https://httpbin.org/post\"\n",
        "\n",
        "response = requests.post(url, json=data)"
      ],
      "metadata": {
        "id": "V04JVMJu9nuO"
      },
      "execution_count": null,
      "outputs": []
    },
    {
      "cell_type": "markdown",
      "source": [
        "2.4.2-Use json() method on the response object:"
      ],
      "metadata": {
        "id": "JWizNHUF9qsk"
      }
    },
    {
      "cell_type": "code",
      "source": [
        "response_data = response.json()\n",
        "# Shows the data as a dictionary\n",
        "print(response_data)"
      ],
      "metadata": {
        "colab": {
          "base_uri": "https://localhost:8080/"
        },
        "id": "2Uut_BMy9wzw",
        "outputId": "59665442-6cf0-42e1-b183-9531b3e27eba"
      },
      "execution_count": null,
      "outputs": [
        {
          "output_type": "stream",
          "name": "stdout",
          "text": [
            "{'args': {}, 'data': '{\"name\": \"Salah\", \"message\": \"Hello!\"}', 'files': {}, 'form': {}, 'headers': {'Accept': '*/*', 'Accept-Encoding': 'gzip, deflate, zstd', 'Content-Length': '38', 'Content-Type': 'application/json', 'Host': 'httpbin.org', 'User-Agent': 'python-requests/2.32.3', 'X-Amzn-Trace-Id': 'Root=1-68076a17-7d6189c41cf3d8173ac513a7'}, 'json': {'message': 'Hello!', 'name': 'Salah'}, 'origin': '34.138.248.234', 'url': 'https://httpbin.org/post'}\n"
          ]
        }
      ]
    },
    {
      "cell_type": "markdown",
      "source": [
        "2.5-Handling Errors"
      ],
      "metadata": {
        "id": "DfEXf0EGAAPD"
      }
    },
    {
      "cell_type": "markdown",
      "source": [
        "2.5-To check for error codes using the status code:"
      ],
      "metadata": {
        "id": "9ik0hOkiAFfN"
      }
    },
    {
      "cell_type": "code",
      "source": [
        "import requests\n",
        "\n",
        "# here we use an endpoint that always gives a 404 status error\n",
        "response = requests.get(\"https://httpbin.org/status/404\")\n",
        "# if status code is not 200 (successful response), then show error message\n",
        "if response.status_code != 200:\n",
        "    print(f\"HTTP Error: {response.status_code}\")"
      ],
      "metadata": {
        "colab": {
          "base_uri": "https://localhost:8080/"
        },
        "id": "zCFQ7-A7AJLN",
        "outputId": "c2857b18-4a5f-4fbe-db4f-bc302ee5aa04"
      },
      "execution_count": null,
      "outputs": [
        {
          "output_type": "stream",
          "name": "stdout",
          "text": [
            "HTTP Error: 404\n"
          ]
        }
      ]
    },
    {
      "cell_type": "markdown",
      "source": [
        "2.6-Setting a Timeout:"
      ],
      "metadata": {
        "id": "XKqOu5t8AMXA"
      }
    },
    {
      "cell_type": "markdown",
      "source": [
        "2.6.1-Pass the timeout parameter to the request method:"
      ],
      "metadata": {
        "id": "AMr5-48gAOn6"
      }
    },
    {
      "cell_type": "code",
      "source": [
        "url = \"https://httpbin.org/delay/10\"\n",
        "\n",
        "try:\n",
        "    response = requests.get(url, timeout=5)\n",
        "except requests.exceptions.Timeout as err:\n",
        "    print(err)"
      ],
      "metadata": {
        "colab": {
          "base_uri": "https://localhost:8080/"
        },
        "id": "cPVV7HvgARTr",
        "outputId": "a5854917-3f14-4f07-def8-860e1bb6bcb8"
      },
      "execution_count": null,
      "outputs": [
        {
          "output_type": "stream",
          "name": "stdout",
          "text": [
            "HTTPSConnectionPool(host='httpbin.org', port=443): Read timed out. (read timeout=5)\n"
          ]
        }
      ]
    },
    {
      "cell_type": "markdown",
      "source": [
        "2.7-HTTP Request Headers:"
      ],
      "metadata": {
        "id": "YZZ_R63BAWVO"
      }
    },
    {
      "cell_type": "markdown",
      "source": [
        "2.7.1-Create a dictionary with the headers values you want to use:"
      ],
      "metadata": {
        "id": "3xQzSAYVAZhE"
      }
    },
    {
      "cell_type": "code",
      "source": [
        "auth_token = \"XXXXXXXX\"\n",
        "\n",
        "# here we set the authorization header with the 'bearer token' for authentication purposes.\n",
        "headers = {\n",
        "    \"Authorization\": f\"Bearer {auth_token}\"\n",
        "}\n",
        "\n",
        "url = \"https://httpbin.org/headers\"\n",
        "response = requests.get(url, headers=headers)\n",
        "print(response.json())"
      ],
      "metadata": {
        "colab": {
          "base_uri": "https://localhost:8080/"
        },
        "id": "WbNmWYgzAcyj",
        "outputId": "22d22083-cfe7-4fe2-e6c7-9cc19c3ff937"
      },
      "execution_count": null,
      "outputs": [
        {
          "output_type": "stream",
          "name": "stdout",
          "text": [
            "{'headers': {'Accept': '*/*', 'Accept-Encoding': 'gzip, deflate, zstd', 'Authorization': 'Bearer XXXXXXXX', 'Host': 'httpbin.org', 'User-Agent': 'python-requests/2.32.3', 'X-Amzn-Trace-Id': 'Root=1-68076cfd-5f0fa3f33ac78f984c79cdb5'}}\n"
          ]
        }
      ]
    },
    {
      "cell_type": "markdown",
      "source": [
        "2.8-Web Scraping with BeautifulSoup:"
      ],
      "metadata": {
        "id": "Pk4LxCUtAgpU"
      }
    },
    {
      "cell_type": "markdown",
      "source": [
        "2.8-Use the get request method to receive the raw HTML content of the page:"
      ],
      "metadata": {
        "id": "MBd8a7jFAl5m"
      }
    },
    {
      "cell_type": "markdown",
      "source": [
        "2.8.1-Use the get request method to receive the raw HTML content of the page:"
      ],
      "metadata": {
        "id": "QeEaezHpWQWl"
      }
    },
    {
      "cell_type": "code",
      "source": [
        "import requests\n",
        "\n",
        "url = \"https://www.example.com\"\n",
        "# this will get all the HTML, javascript, css code\n",
        "response = requests.get(url)"
      ],
      "metadata": {
        "id": "KOvtA_HUAn32"
      },
      "execution_count": null,
      "outputs": []
    },
    {
      "cell_type": "markdown",
      "source": [
        "2.8.2-Use another module called BeautifulSoup:"
      ],
      "metadata": {
        "id": "fP7annDkApJo"
      }
    },
    {
      "cell_type": "code",
      "source": [
        "pip install beautifulsoup4"
      ],
      "metadata": {
        "colab": {
          "base_uri": "https://localhost:8080/"
        },
        "id": "1SY1o1ySAuRE",
        "outputId": "eb7022f1-cab1-402c-f792-6956fcc47a66"
      },
      "execution_count": null,
      "outputs": [
        {
          "output_type": "stream",
          "name": "stdout",
          "text": [
            "Requirement already satisfied: beautifulsoup4 in /usr/local/lib/python3.11/dist-packages (4.13.4)\n",
            "Requirement already satisfied: soupsieve>1.2 in /usr/local/lib/python3.11/dist-packages (from beautifulsoup4) (2.6)\n",
            "Requirement already satisfied: typing-extensions>=4.0.0 in /usr/local/lib/python3.11/dist-packages (from beautifulsoup4) (4.13.2)\n"
          ]
        }
      ]
    },
    {
      "cell_type": "markdown",
      "source": [
        "2.8.3-Make searching and traversing the HTML content much easier:"
      ],
      "metadata": {
        "id": "oDB3FUoLAzNH"
      }
    },
    {
      "cell_type": "code",
      "source": [
        "import requests\n",
        "from bs4 import BeautifulSoup\n",
        "\n",
        "url = \"https://www.example.com\"\n",
        "response = requests.get(url)\n",
        "soup = BeautifulSoup(response.content, \"html.parser\")"
      ],
      "metadata": {
        "id": "IomwnXkHA0DU"
      },
      "execution_count": null,
      "outputs": []
    },
    {
      "cell_type": "markdown",
      "source": [
        "2.8.4-Exemple:"
      ],
      "metadata": {
        "id": "OUH20KbVA2-t"
      }
    },
    {
      "cell_type": "code",
      "source": [
        "title = soup.title.text\n",
        "content = soup.find(\"p\").text\n",
        "links = [a[\"href\"] for a in soup.find_all(\"a\")]\n",
        "\n",
        "print(title, content, links)"
      ],
      "metadata": {
        "colab": {
          "base_uri": "https://localhost:8080/"
        },
        "id": "XSjdtT8-BIFG",
        "outputId": "0dafea8d-bfbc-4663-97ad-889999563a3a"
      },
      "execution_count": null,
      "outputs": [
        {
          "output_type": "stream",
          "name": "stdout",
          "text": [
            "Example Domain This domain is for use in illustrative examples in documents. You may use this\n",
            "    domain in literature without prior coordination or asking for permission. ['https://www.iana.org/domains/example']\n"
          ]
        }
      ]
    },
    {
      "cell_type": "markdown",
      "source": [
        "2.9-Requests vs urllib:"
      ],
      "metadata": {
        "id": "lQGxOEQzBMFX"
      }
    },
    {
      "cell_type": "markdown",
      "source": [
        "2.9.1-Example post request in urllib:"
      ],
      "metadata": {
        "id": "cj1rnVI0BM5m"
      }
    },
    {
      "cell_type": "code",
      "source": [
        "import urllib.request\n",
        "import urllib.parse\n",
        "\n",
        "data = urllib.parse.urlencode({\"key\"; \"value\"}).encode(\"utf-8\")\n",
        "req = urllib.request.Request(\"https://www.example.com\", data=data, method=\"post\")\n",
        "with urllib.request.urlopen(req) as response:\n",
        "    html = response.read().decode(\"utf-8\")\n",
        "print(html)"
      ],
      "metadata": {
        "colab": {
          "base_uri": "https://localhost:8080/",
          "height": 106
        },
        "id": "nmEVJOIzBRg0",
        "outputId": "ac141e1f-999b-4447-ba3d-c3ec9e0b490a"
      },
      "execution_count": null,
      "outputs": [
        {
          "output_type": "error",
          "ename": "SyntaxError",
          "evalue": "invalid syntax (<ipython-input-43-5ca3ef0be473>, line 4)",
          "traceback": [
            "\u001b[0;36m  File \u001b[0;32m\"<ipython-input-43-5ca3ef0be473>\"\u001b[0;36m, line \u001b[0;32m4\u001b[0m\n\u001b[0;31m    data = urllib.parse.urlencode({\"key\"; \"value\"}).encode(\"utf-8\")\u001b[0m\n\u001b[0m                                        ^\u001b[0m\n\u001b[0;31mSyntaxError\u001b[0m\u001b[0;31m:\u001b[0m invalid syntax\n"
          ]
        }
      ]
    },
    {
      "cell_type": "markdown",
      "source": [
        "**L'ereur:**Utilisation d'un point-virgule (;) au lieu de deux-points (:) dans le dictionnaire.\n",
        "\n",
        "**La solution:**Remplacez {\"key\"; \"value\"} par {\"key\": \"value\"}."
      ],
      "metadata": {
        "id": "4BwRp_KKBt_G"
      }
    },
    {
      "cell_type": "code",
      "source": [
        "import urllib.request\n",
        "import urllib.parse\n",
        "\n",
        "url = \"https://www.example.com\"\n",
        "data = urllib.parse.urlencode({\"key\": \"value\"}).encode(\"utf-8\")\n",
        "\n",
        "\n",
        "headers = {\n",
        "    \"User-Agent\": \"Mozilla/5.0\"\n",
        "}\n",
        "\n",
        "req = urllib.request.Request(url, data=data, headers=headers, method=\"POST\")\n",
        "\n",
        "try:\n",
        "    with urllib.request.urlopen(req) as response:\n",
        "        html = response.read().decode(\"utf-8\")\n",
        "    print(html)\n",
        "except urllib.error.HTTPError as e:\n",
        "    print(f\"HTTP Error: {e.code} - {e.reason}\")\n",
        "except urllib.error.URLError as e:\n",
        "    print(f\"URL Error: {e.reason}\")\n"
      ],
      "metadata": {
        "colab": {
          "base_uri": "https://localhost:8080/"
        },
        "id": "rEFHLGTlBwrp",
        "outputId": "c8db5249-f3f0-4e7c-83bd-8be1b8741192"
      },
      "execution_count": null,
      "outputs": [
        {
          "output_type": "stream",
          "name": "stdout",
          "text": [
            "HTTP Error: 403 - Forbidden\n"
          ]
        }
      ]
    },
    {
      "cell_type": "markdown",
      "source": [
        "**3-FastAPI:**"
      ],
      "metadata": {
        "id": "w8cdXzxYZLs5"
      }
    },
    {
      "cell_type": "markdown",
      "source": [
        "3.1-Install and Get Started with FastAPI:"
      ],
      "metadata": {
        "id": "DDvG4xL1DcER"
      }
    },
    {
      "cell_type": "markdown",
      "source": [
        "3.1.1-Install:"
      ],
      "metadata": {
        "id": "MIMf27KoZoWp"
      }
    },
    {
      "cell_type": "code",
      "source": [
        "pip install fastapi uvicorn"
      ],
      "metadata": {
        "colab": {
          "base_uri": "https://localhost:8080/"
        },
        "id": "rErvy9PqDdEV",
        "outputId": "869bbda5-a6c5-453a-e8c6-3fa8a5cd7d82"
      },
      "execution_count": null,
      "outputs": [
        {
          "output_type": "stream",
          "name": "stdout",
          "text": [
            "Collecting fastapi\n",
            "  Downloading fastapi-0.115.12-py3-none-any.whl.metadata (27 kB)\n",
            "Collecting uvicorn\n",
            "  Downloading uvicorn-0.34.2-py3-none-any.whl.metadata (6.5 kB)\n",
            "Collecting starlette<0.47.0,>=0.40.0 (from fastapi)\n",
            "  Downloading starlette-0.46.2-py3-none-any.whl.metadata (6.2 kB)\n",
            "Requirement already satisfied: pydantic!=1.8,!=1.8.1,!=2.0.0,!=2.0.1,!=2.1.0,<3.0.0,>=1.7.4 in /usr/local/lib/python3.11/dist-packages (from fastapi) (2.11.3)\n",
            "Requirement already satisfied: typing-extensions>=4.8.0 in /usr/local/lib/python3.11/dist-packages (from fastapi) (4.13.2)\n",
            "Requirement already satisfied: click>=7.0 in /usr/local/lib/python3.11/dist-packages (from uvicorn) (8.1.8)\n",
            "Requirement already satisfied: h11>=0.8 in /usr/local/lib/python3.11/dist-packages (from uvicorn) (0.14.0)\n",
            "Requirement already satisfied: annotated-types>=0.6.0 in /usr/local/lib/python3.11/dist-packages (from pydantic!=1.8,!=1.8.1,!=2.0.0,!=2.0.1,!=2.1.0,<3.0.0,>=1.7.4->fastapi) (0.7.0)\n",
            "Requirement already satisfied: pydantic-core==2.33.1 in /usr/local/lib/python3.11/dist-packages (from pydantic!=1.8,!=1.8.1,!=2.0.0,!=2.0.1,!=2.1.0,<3.0.0,>=1.7.4->fastapi) (2.33.1)\n",
            "Requirement already satisfied: typing-inspection>=0.4.0 in /usr/local/lib/python3.11/dist-packages (from pydantic!=1.8,!=1.8.1,!=2.0.0,!=2.0.1,!=2.1.0,<3.0.0,>=1.7.4->fastapi) (0.4.0)\n",
            "Requirement already satisfied: anyio<5,>=3.6.2 in /usr/local/lib/python3.11/dist-packages (from starlette<0.47.0,>=0.40.0->fastapi) (4.9.0)\n",
            "Requirement already satisfied: idna>=2.8 in /usr/local/lib/python3.11/dist-packages (from anyio<5,>=3.6.2->starlette<0.47.0,>=0.40.0->fastapi) (3.10)\n",
            "Requirement already satisfied: sniffio>=1.1 in /usr/local/lib/python3.11/dist-packages (from anyio<5,>=3.6.2->starlette<0.47.0,>=0.40.0->fastapi) (1.3.1)\n",
            "Downloading fastapi-0.115.12-py3-none-any.whl (95 kB)\n",
            "\u001b[2K   \u001b[90m━━━━━━━━━━━━━━━━━━━━━━━━━━━━━━━━━━━━━━━━\u001b[0m \u001b[32m95.2/95.2 kB\u001b[0m \u001b[31m4.4 MB/s\u001b[0m eta \u001b[36m0:00:00\u001b[0m\n",
            "\u001b[?25hDownloading uvicorn-0.34.2-py3-none-any.whl (62 kB)\n",
            "\u001b[2K   \u001b[90m━━━━━━━━━━━━━━━━━━━━━━━━━━━━━━━━━━━━━━━━\u001b[0m \u001b[32m62.5/62.5 kB\u001b[0m \u001b[31m4.9 MB/s\u001b[0m eta \u001b[36m0:00:00\u001b[0m\n",
            "\u001b[?25hDownloading starlette-0.46.2-py3-none-any.whl (72 kB)\n",
            "\u001b[2K   \u001b[90m━━━━━━━━━━━━━━━━━━━━━━━━━━━━━━━━━━━━━━━━\u001b[0m \u001b[32m72.0/72.0 kB\u001b[0m \u001b[31m5.2 MB/s\u001b[0m eta \u001b[36m0:00:00\u001b[0m\n",
            "\u001b[?25hInstalling collected packages: uvicorn, starlette, fastapi\n",
            "Successfully installed fastapi-0.115.12 starlette-0.46.2 uvicorn-0.34.2\n"
          ]
        }
      ]
    },
    {
      "cell_type": "markdown",
      "source": [
        "3.1.2-Create a new directory for the project and create a file named main.py :"
      ],
      "metadata": {
        "id": "RVxO_9wNDi_V"
      }
    },
    {
      "cell_type": "code",
      "source": [
        "from fastapi import FastAPI\n",
        "\n",
        "# Create an app\n",
        "app = FastAPI()\n",
        "\n",
        "# define a path for HTTP Get method\n",
        "@app.get(\"/\")\n",
        "def root():\n",
        "    return {\"Hello\": \"World\"}"
      ],
      "metadata": {
        "id": "zGs43-tfDkDl"
      },
      "execution_count": null,
      "outputs": []
    },
    {
      "cell_type": "markdown",
      "source": [
        "3.1.3-Use uvicron in the terminal:"
      ],
      "metadata": {
        "id": "eacb1nnkDpWA"
      }
    },
    {
      "cell_type": "code",
      "source": [
        "uvicorn main:app --reload"
      ],
      "metadata": {
        "colab": {
          "base_uri": "https://localhost:8080/",
          "height": 106
        },
        "id": "t-jbUlnADqIO",
        "outputId": "c6218399-60cb-4c19-895a-078d41e3fe98"
      },
      "execution_count": null,
      "outputs": [
        {
          "output_type": "error",
          "ename": "SyntaxError",
          "evalue": "invalid syntax (<ipython-input-50-529978818c8b>, line 1)",
          "traceback": [
            "\u001b[0;36m  File \u001b[0;32m\"<ipython-input-50-529978818c8b>\"\u001b[0;36m, line \u001b[0;32m1\u001b[0m\n\u001b[0;31m    uvicorn main:app --reload\u001b[0m\n\u001b[0m            ^\u001b[0m\n\u001b[0;31mSyntaxError\u001b[0m\u001b[0;31m:\u001b[0m invalid syntax\n"
          ]
        }
      ]
    },
    {
      "cell_type": "markdown",
      "source": [
        "**L'erreur :** Monque de l'importation\n",
        "\n",
        " **La solution:** Ajout de l'importation"
      ],
      "metadata": {
        "id": "--DS2OXiFOPT"
      }
    },
    {
      "cell_type": "code",
      "source": [
        "import uvicorn\n",
        "uvicorn.run(\"main:app\", reload=True)"
      ],
      "metadata": {
        "colab": {
          "base_uri": "https://localhost:8080/"
        },
        "id": "M-NdEw74EAga",
        "outputId": "a9a2a885-1620-4631-a2d8-5ac76c1a304d"
      },
      "execution_count": null,
      "outputs": [
        {
          "output_type": "stream",
          "name": "stderr",
          "text": [
            "INFO:     Will watch for changes in these directories: ['/content']\n",
            "INFO:     Uvicorn running on http://127.0.0.1:8000 (Press CTRL+C to quit)\n",
            "INFO:     Started reloader process [1071] using StatReload\n",
            "INFO:     Stopping reloader process [1071]\n"
          ]
        }
      ]
    },
    {
      "cell_type": "markdown",
      "source": [
        "3.2-GET and POST Routes:"
      ],
      "metadata": {
        "id": "jzSogaoqFXyf"
      }
    },
    {
      "cell_type": "markdown",
      "source": [
        "3.2.1-Create an empty list of items:"
      ],
      "metadata": {
        "id": "PJt8ievIFbcK"
      }
    },
    {
      "cell_type": "code",
      "source": [
        "items = []"
      ],
      "metadata": {
        "id": "Gd5f6c7TFcQP"
      },
      "execution_count": null,
      "outputs": []
    },
    {
      "cell_type": "markdown",
      "source": [
        "3.2.2-Create a new endpoint for our app:"
      ],
      "metadata": {
        "id": "qIV3DE8qFiOy"
      }
    },
    {
      "cell_type": "code",
      "source": [
        "@app.post(\"items\")\n",
        "def create_item(item: str):\n",
        "    items.append(item)\n",
        "    return item"
      ],
      "metadata": {
        "id": "rS4qf9TlFkth"
      },
      "execution_count": null,
      "outputs": []
    },
    {
      "cell_type": "markdown",
      "source": [
        "3.2.3-Test the endpoint:"
      ],
      "metadata": {
        "id": "Gl8g3mRKFl-h"
      }
    },
    {
      "cell_type": "code",
      "source": [
        "curl -X POST -H \"Content-Type: application/json\" 'http://127.0.0.1:8000/items?item=apple'"
      ],
      "metadata": {
        "colab": {
          "base_uri": "https://localhost:8080/",
          "height": 124
        },
        "id": "vP9HBHJtFp45",
        "outputId": "3ce6b0a3-de7a-41f9-96f9-9f310a1da2b5"
      },
      "execution_count": null,
      "outputs": [
        {
          "output_type": "error",
          "ename": "SyntaxError",
          "evalue": "invalid syntax (<ipython-input-55-e306490bbeee>, line 1)",
          "traceback": [
            "\u001b[0;36m  File \u001b[0;32m\"<ipython-input-55-e306490bbeee>\"\u001b[0;36m, line \u001b[0;32m1\u001b[0m\n\u001b[0;31m    curl -X POST -H \"Content-Type: application/json\" 'http://127.0.0.1:8000/items?item=apple'\u001b[0m\n\u001b[0m            ^\u001b[0m\n\u001b[0;31mSyntaxError\u001b[0m\u001b[0;31m:\u001b[0m invalid syntax\n"
          ]
        }
      ]
    },
    {
      "cell_type": "markdown",
      "source": [
        "**L'erreur :** Tu as tapé une commande `curl` dans un bloc Python, ce qui provoque une erreur de syntaxe.  \n",
        "**La solution :** Ajoute un `!` devant la commande `curl` pour l’exécuter dans le terminal Colab."
      ],
      "metadata": {
        "id": "TM-UMo5kLVIL"
      }
    },
    {
      "cell_type": "code",
      "source": [
        "!curl -X POST -H \"Content-Type: application/json\" \"http://127.0.0.1:8000/items?item=apple\"\n"
      ],
      "metadata": {
        "colab": {
          "base_uri": "https://localhost:8080/"
        },
        "id": "6-dMoXseLD7m",
        "outputId": "e3786e1d-f05d-413d-e670-0742cd46d149"
      },
      "execution_count": null,
      "outputs": [
        {
          "output_type": "stream",
          "name": "stdout",
          "text": [
            "curl: (7) Failed to connect to 127.0.0.1 port 8000 after 0 ms: Connection refused\n"
          ]
        }
      ]
    },
    {
      "cell_type": "markdown",
      "source": [
        "3.2.4-Create an endpoint to view a specific item of the list:"
      ],
      "metadata": {
        "id": "ccDJIZeCLb90"
      }
    },
    {
      "cell_type": "code",
      "source": [
        "@app.get(\"items/{item_id}\")\n",
        "def get_item(item_id: int) -> str:\n",
        "    item = items[item_id]\n",
        "    return item"
      ],
      "metadata": {
        "id": "IGk_fpuILeS9"
      },
      "execution_count": null,
      "outputs": []
    },
    {
      "cell_type": "markdown",
      "source": [
        "3.2.5-Test the endpoint:"
      ],
      "metadata": {
        "id": "xMVEekjULfod"
      }
    },
    {
      "cell_type": "code",
      "source": [
        "curl -X GET http://127.0.0.1:8000/items/0"
      ],
      "metadata": {
        "colab": {
          "base_uri": "https://localhost:8080/",
          "height": 106
        },
        "id": "eokvSn6xLi1x",
        "outputId": "f67e9456-851c-4c5e-d49c-cd375bd40632"
      },
      "execution_count": null,
      "outputs": [
        {
          "output_type": "error",
          "ename": "SyntaxError",
          "evalue": "invalid syntax (<ipython-input-60-180c864ffff4>, line 1)",
          "traceback": [
            "\u001b[0;36m  File \u001b[0;32m\"<ipython-input-60-180c864ffff4>\"\u001b[0;36m, line \u001b[0;32m1\u001b[0m\n\u001b[0;31m    curl -X GET http://127.0.0.1:8000/items/0\u001b[0m\n\u001b[0m            ^\u001b[0m\n\u001b[0;31mSyntaxError\u001b[0m\u001b[0;31m:\u001b[0m invalid syntax\n"
          ]
        }
      ]
    },
    {
      "cell_type": "markdown",
      "source": [
        "**L'erreur** : `SyntaxError: invalid syntax` car `curl` est une commande shell, pas du Python.  \n",
        "**La solution** : ajouter `!` devant la commande : `!curl -X GET http://127.0.0.1:8000/items/0`."
      ],
      "metadata": {
        "id": "lQQSY1WMMkht"
      }
    },
    {
      "cell_type": "code",
      "source": [
        "!curl -X GET http://127.0.0.1:8000/items/0\n"
      ],
      "metadata": {
        "colab": {
          "base_uri": "https://localhost:8080/"
        },
        "id": "h7BN5i2cMctq",
        "outputId": "87b63b2d-bf84-40a9-a7fe-0784e7121573"
      },
      "execution_count": null,
      "outputs": [
        {
          "output_type": "stream",
          "name": "stdout",
          "text": [
            "curl: (7) Failed to connect to 127.0.0.1 port 8000 after 0 ms: Connection refused\n"
          ]
        }
      ]
    },
    {
      "cell_type": "markdown",
      "source": [
        "3.2.6-Try to get an item that doesn’t exist:"
      ],
      "metadata": {
        "id": "jE5EpAAmMprE"
      }
    },
    {
      "cell_type": "code",
      "source": [
        "curl -X GET http://127.0.0.1:8000/items/7"
      ],
      "metadata": {
        "colab": {
          "base_uri": "https://localhost:8080/",
          "height": 106
        },
        "id": "85lzbmvfMwxQ",
        "outputId": "366c2a2b-935d-4fdf-82e3-ee9349361098"
      },
      "execution_count": null,
      "outputs": [
        {
          "output_type": "error",
          "ename": "SyntaxError",
          "evalue": "invalid syntax (<ipython-input-62-2e34130924f8>, line 1)",
          "traceback": [
            "\u001b[0;36m  File \u001b[0;32m\"<ipython-input-62-2e34130924f8>\"\u001b[0;36m, line \u001b[0;32m1\u001b[0m\n\u001b[0;31m    curl -X GET http://127.0.0.1:8000/items/7\u001b[0m\n\u001b[0m            ^\u001b[0m\n\u001b[0;31mSyntaxError\u001b[0m\u001b[0;31m:\u001b[0m invalid syntax\n"
          ]
        }
      ]
    },
    {
      "cell_type": "markdown",
      "source": [
        "**L'erreur:**invalid syntax car curl est une commande shell, pas du Python.  l'absence du ! pour exécuter une commande système\n",
        "\n",
        "**La solution:** ajouter ! devant la commande\n",
        "\n"
      ],
      "metadata": {
        "id": "cMVawX9mNsBA"
      }
    },
    {
      "cell_type": "code",
      "source": [
        "!curl -X GET http://127.0.0.1:8000/items/7"
      ],
      "metadata": {
        "colab": {
          "base_uri": "https://localhost:8080/"
        },
        "id": "c2DggSB9NHgN",
        "outputId": "af44dbd1-0418-4432-f94c-643d727f8f2c"
      },
      "execution_count": null,
      "outputs": [
        {
          "output_type": "stream",
          "name": "stdout",
          "text": [
            "curl: (7) Failed to connect to 127.0.0.1 port 8000 after 0 ms: Connection refused\n"
          ]
        }
      ]
    },
    {
      "cell_type": "markdown",
      "source": [
        "3.3-Handling HTTP Errors:"
      ],
      "metadata": {
        "id": "aiQkccLXONjf"
      }
    },
    {
      "cell_type": "markdown",
      "source": [
        "3.3.1-Import HTTPException from FastAPI:"
      ],
      "metadata": {
        "id": "b95glUcIOOlq"
      }
    },
    {
      "cell_type": "code",
      "source": [
        "from fastapi import FastAPI, HTTPException"
      ],
      "metadata": {
        "id": "YierHEYFOR81"
      },
      "execution_count": null,
      "outputs": []
    },
    {
      "cell_type": "markdown",
      "source": [
        "3.3.2-Modify the get_item() endpoint to use the HTTPException:"
      ],
      "metadata": {
        "id": "Nup40YHOOWxT"
      }
    },
    {
      "cell_type": "code",
      "source": [
        "@app.get(\"items/{item_id}\")\n",
        "def get_item(item_id: int) -> str:\n",
        "    if item_id < len(items):\n",
        "        return = items[item_id]\n",
        "    else:\n",
        "        raise HTTPException(status_code=404, detail=f\"Item {item_id} not found\")"
      ],
      "metadata": {
        "colab": {
          "base_uri": "https://localhost:8080/",
          "height": 106
        },
        "id": "z67qYz-wObAS",
        "outputId": "5e8f1bda-0cc4-4be4-9685-243239fb481e"
      },
      "execution_count": null,
      "outputs": [
        {
          "output_type": "error",
          "ename": "SyntaxError",
          "evalue": "invalid syntax (<ipython-input-67-7733e716c25b>, line 4)",
          "traceback": [
            "\u001b[0;36m  File \u001b[0;32m\"<ipython-input-67-7733e716c25b>\"\u001b[0;36m, line \u001b[0;32m4\u001b[0m\n\u001b[0;31m    return = items[item_id]\u001b[0m\n\u001b[0m           ^\u001b[0m\n\u001b[0;31mSyntaxError\u001b[0m\u001b[0;31m:\u001b[0m invalid syntax\n"
          ]
        }
      ]
    },
    {
      "cell_type": "markdown",
      "source": [
        "**L'erreur: **`return =` est incorrect, il faut simplement utiliser `return`.  \n",
        "**La solution:** Remplacez `return = items[item_id]` par `return items[item_id]`."
      ],
      "metadata": {
        "id": "48eRPI50PL4u"
      }
    },
    {
      "cell_type": "code",
      "source": [
        "from fastapi import FastAPI, HTTPException\n",
        "\n",
        "app = FastAPI()\n",
        "\n",
        "items = [\"item1\", \"item2\", \"item3\"]  # Exemple de liste d'items\n",
        "\n",
        "@app.get(\"/items/{item_id}\")\n",
        "def get_item(item_id: int) -> str:\n",
        "    if item_id < len(items):\n",
        "        return items[item_id]\n",
        "    else:\n",
        "        raise HTTPException(status_code=404, detail=f\"Item {item_id} not found\")\n",
        "\n"
      ],
      "metadata": {
        "id": "SQY6ahFgPCvM"
      },
      "execution_count": null,
      "outputs": []
    },
    {
      "cell_type": "markdown",
      "source": [
        "3.3.3-Run the same request again:"
      ],
      "metadata": {
        "id": "Dii2WkTzPP1C"
      }
    },
    {
      "cell_type": "code",
      "source": [
        "curl -X GET http://127.0.0.1:8000/items/7"
      ],
      "metadata": {
        "colab": {
          "base_uri": "https://localhost:8080/",
          "height": 106
        },
        "id": "VVPqU5IaPS6k",
        "outputId": "5caebecd-50ff-4545-a843-e2983dc740cd"
      },
      "execution_count": null,
      "outputs": [
        {
          "output_type": "error",
          "ename": "SyntaxError",
          "evalue": "invalid syntax (<ipython-input-71-2e34130924f8>, line 1)",
          "traceback": [
            "\u001b[0;36m  File \u001b[0;32m\"<ipython-input-71-2e34130924f8>\"\u001b[0;36m, line \u001b[0;32m1\u001b[0m\n\u001b[0;31m    curl -X GET http://127.0.0.1:8000/items/7\u001b[0m\n\u001b[0m            ^\u001b[0m\n\u001b[0;31mSyntaxError\u001b[0m\u001b[0;31m:\u001b[0m invalid syntax\n"
          ]
        }
      ]
    },
    {
      "cell_type": "markdown",
      "source": [
        "**L'erreur :** Tu as tapé une commande `curl` dans un bloc Python, ce qui provoque une erreur de syntaxe.  \n",
        "**La solution :** Ajoute un `!` devant la commande `curl` pour l’exécuter dans le terminal Colab."
      ],
      "metadata": {
        "id": "sOCGynHnfAdc"
      }
    },
    {
      "cell_type": "code",
      "source": [
        "!curl -X GET http://127.0.0.1:8000/items/7"
      ],
      "metadata": {
        "colab": {
          "base_uri": "https://localhost:8080/"
        },
        "id": "ASpSM6i1PaM1",
        "outputId": "7e9fb8f3-7a1a-46b4-805f-0c2a497539ab"
      },
      "execution_count": null,
      "outputs": [
        {
          "output_type": "stream",
          "name": "stdout",
          "text": [
            "curl: (7) Failed to connect to 127.0.0.1 port 8000 after 0 ms: Connection refused\n"
          ]
        }
      ]
    },
    {
      "cell_type": "markdown",
      "source": [
        "3.4-JSON Request and Path Parameters:"
      ],
      "metadata": {
        "id": "RwZzttgwPeK3"
      }
    },
    {
      "cell_type": "markdown",
      "source": [
        "3.4.1-Create a new endpoint called list_items:"
      ],
      "metadata": {
        "id": "-eBdqOiaPjZg"
      }
    },
    {
      "cell_type": "code",
      "source": [
        "# this endpoint uses a query parameter 'limit'\n",
        "@app.get(\"/items/\")\n",
        "def list_items(limit: int = 10):\n",
        "    return items[0:limit]"
      ],
      "metadata": {
        "colab": {
          "base_uri": "https://localhost:8080/",
          "height": 193
        },
        "id": "trJMv4tUPnM4",
        "outputId": "005bbe58-5511-48ea-a4f4-51f54139e9d0"
      },
      "execution_count": null,
      "outputs": [
        {
          "output_type": "error",
          "ename": "NameError",
          "evalue": "name 'app' is not defined",
          "traceback": [
            "\u001b[0;31m---------------------------------------------------------------------------\u001b[0m",
            "\u001b[0;31mNameError\u001b[0m                                 Traceback (most recent call last)",
            "\u001b[0;32m<ipython-input-1-1d7f04997fa7>\u001b[0m in \u001b[0;36m<cell line: 0>\u001b[0;34m()\u001b[0m\n\u001b[1;32m      1\u001b[0m \u001b[0;31m# this endpoint uses a query parameter 'limit'\u001b[0m\u001b[0;34m\u001b[0m\u001b[0;34m\u001b[0m\u001b[0m\n\u001b[0;32m----> 2\u001b[0;31m \u001b[0;34m@\u001b[0m\u001b[0mapp\u001b[0m\u001b[0;34m.\u001b[0m\u001b[0mget\u001b[0m\u001b[0;34m(\u001b[0m\u001b[0;34m\"/items/\"\u001b[0m\u001b[0;34m)\u001b[0m\u001b[0;34m\u001b[0m\u001b[0;34m\u001b[0m\u001b[0m\n\u001b[0m\u001b[1;32m      3\u001b[0m \u001b[0;32mdef\u001b[0m \u001b[0mlist_items\u001b[0m\u001b[0;34m(\u001b[0m\u001b[0mlimit\u001b[0m\u001b[0;34m:\u001b[0m \u001b[0mint\u001b[0m \u001b[0;34m=\u001b[0m \u001b[0;36m10\u001b[0m\u001b[0;34m)\u001b[0m\u001b[0;34m:\u001b[0m\u001b[0;34m\u001b[0m\u001b[0;34m\u001b[0m\u001b[0m\n\u001b[1;32m      4\u001b[0m     \u001b[0;32mreturn\u001b[0m \u001b[0mitems\u001b[0m\u001b[0;34m[\u001b[0m\u001b[0;36m0\u001b[0m\u001b[0;34m:\u001b[0m\u001b[0mlimit\u001b[0m\u001b[0;34m]\u001b[0m\u001b[0;34m\u001b[0m\u001b[0;34m\u001b[0m\u001b[0m\n",
            "\u001b[0;31mNameError\u001b[0m: name 'app' is not defined"
          ]
        }
      ]
    },
    {
      "cell_type": "markdown",
      "source": [
        "Test this endpoint (first add at least 10 items to the list):"
      ],
      "metadata": {
        "id": "gfCAnmGEPul8"
      }
    },
    {
      "cell_type": "code",
      "source": [
        "curl -X GET 'http://127.0.0.1:8000/items?limit=3'"
      ],
      "metadata": {
        "colab": {
          "base_uri": "https://localhost:8080/",
          "height": 106
        },
        "id": "xKaMj9zRPwja",
        "outputId": "fc07fb6b-6d4e-46b8-d653-3afbd640d678"
      },
      "execution_count": null,
      "outputs": [
        {
          "output_type": "error",
          "ename": "SyntaxError",
          "evalue": "invalid syntax (<ipython-input-74-65f579534cd4>, line 1)",
          "traceback": [
            "\u001b[0;36m  File \u001b[0;32m\"<ipython-input-74-65f579534cd4>\"\u001b[0;36m, line \u001b[0;32m1\u001b[0m\n\u001b[0;31m    curl -X GET 'http://127.0.0.1:8000/items?limit=3'\u001b[0m\n\u001b[0m            ^\u001b[0m\n\u001b[0;31mSyntaxError\u001b[0m\u001b[0;31m:\u001b[0m invalid syntax\n"
          ]
        }
      ]
    },
    {
      "cell_type": "markdown",
      "source": [
        "**L'erreur :** Tu as tapé une commande `curl` dans un bloc Python, ce qui provoque une erreur de syntaxe.  \n",
        "**La solution :** Ajoute un `!` devant la commande `curl` pour l’exécuter dans le terminal Colab."
      ],
      "metadata": {
        "id": "Pz7KRPtLPyKA"
      }
    },
    {
      "cell_type": "code",
      "source": [
        "!curl -X GET 'http://127.0.0.1:8000/items?limit=3'"
      ],
      "metadata": {
        "colab": {
          "base_uri": "https://localhost:8080/"
        },
        "id": "3Hiox-AdP0NW",
        "outputId": "b65da410-bbd6-4b27-eb01-eef241b8d00c"
      },
      "execution_count": null,
      "outputs": [
        {
          "output_type": "stream",
          "name": "stdout",
          "text": [
            "curl: (7) Failed to connect to 127.0.0.1 port 8000 after 0 ms: Connection refused\n"
          ]
        }
      ]
    },
    {
      "cell_type": "markdown",
      "source": [
        "3.5-Pydantic models:"
      ],
      "metadata": {
        "id": "ZxCkS6YeP53b"
      }
    },
    {
      "cell_type": "markdown",
      "source": [
        "3.5.1-Import BaseModel from Pydantic:"
      ],
      "metadata": {
        "id": "-VdZtABgP-F2"
      }
    },
    {
      "cell_type": "code",
      "source": [
        "from pydantic import BaseModel"
      ],
      "metadata": {
        "id": "r6R1bS48QG6r"
      },
      "execution_count": null,
      "outputs": []
    },
    {
      "cell_type": "markdown",
      "source": [
        "3.5.2-Create an item class:"
      ],
      "metadata": {
        "id": "9TcH5h4GQOqW"
      }
    },
    {
      "cell_type": "code",
      "source": [
        "class Item(BaseModel):\n",
        "    text: str = None\n",
        "    is_done: bool = False"
      ],
      "metadata": {
        "id": "4Z8MsmJdQR2i"
      },
      "execution_count": null,
      "outputs": []
    },
    {
      "cell_type": "markdown",
      "source": [
        "3.5.3-Update the app:"
      ],
      "metadata": {
        "id": "de0JqSh-QVJL"
      }
    },
    {
      "cell_type": "code",
      "source": [
        "...\n",
        "def create_item(item: Item):\n",
        "...\n",
        "def get_item(item_id: int) -> Item:"
      ],
      "metadata": {
        "colab": {
          "base_uri": "https://localhost:8080/",
          "height": 106
        },
        "id": "RMnJMrmOQX02",
        "outputId": "0b6d18ee-7f54-4884-ae95-da2e8d0f3884"
      },
      "execution_count": null,
      "outputs": [
        {
          "output_type": "error",
          "ename": "IndentationError",
          "evalue": "expected an indented block after function definition on line 2 (<ipython-input-78-dfa087d11da7>, line 3)",
          "traceback": [
            "\u001b[0;36m  File \u001b[0;32m\"<ipython-input-78-dfa087d11da7>\"\u001b[0;36m, line \u001b[0;32m3\u001b[0m\n\u001b[0;31m    ...\u001b[0m\n\u001b[0m    ^\u001b[0m\n\u001b[0;31mIndentationError\u001b[0m\u001b[0;31m:\u001b[0m expected an indented block after function definition on line 2\n"
          ]
        }
      ]
    },
    {
      "cell_type": "markdown",
      "source": [
        "**L'erreur** : Les fonctions `create_item` et `get_item` ne sont pas associées à des routes FastAPI.  \n",
        "**La solution** : Ajouter les décorateurs `@app.post(...)` et `@app.get(...)` pour exposer les fonctions comme endpoints."
      ],
      "metadata": {
        "id": "cPRMKOSCRKaA"
      }
    },
    {
      "cell_type": "code",
      "source": [
        "from fastapi import FastAPI\n",
        "from pydantic import BaseModel\n",
        "\n",
        "app = FastAPI()\n",
        "\n",
        "class Item(BaseModel):\n",
        "    text: str = None\n",
        "    is_done: bool = False\n",
        "\n",
        "@app.post(\"/items/\")\n",
        "def create_item(item: Item):\n",
        "    return {\"message\": \"Item created\", \"item\": item}\n",
        "\n",
        "@app.get(\"/items/{item_id}\", response_model=Item)\n",
        "def get_item(item_id: int):\n",
        "    # Exemple fictif de récupération d’un item (à adapter selon ta logique)\n",
        "    return Item(text=f\"Item {item_id}\", is_done=False)\n"
      ],
      "metadata": {
        "id": "PCrxf7H0RCJU"
      },
      "execution_count": null,
      "outputs": []
    },
    {
      "cell_type": "markdown",
      "source": [
        "3.5.4-Test the create_item endpoint:"
      ],
      "metadata": {
        "id": "P82WOwEhRQni"
      }
    },
    {
      "cell_type": "code",
      "source": [
        "curl -X POST -H \"Content-Type: application/json\" 'http://127.0.0.1:8000/items?item=apple'"
      ],
      "metadata": {
        "colab": {
          "base_uri": "https://localhost:8080/",
          "height": 124
        },
        "id": "wjnMLCXKRRoI",
        "outputId": "84447060-3d67-4610-a2d1-c0081f4bf0e0"
      },
      "execution_count": null,
      "outputs": [
        {
          "output_type": "error",
          "ename": "SyntaxError",
          "evalue": "invalid syntax (<ipython-input-80-e306490bbeee>, line 1)",
          "traceback": [
            "\u001b[0;36m  File \u001b[0;32m\"<ipython-input-80-e306490bbeee>\"\u001b[0;36m, line \u001b[0;32m1\u001b[0m\n\u001b[0;31m    curl -X POST -H \"Content-Type: application/json\" 'http://127.0.0.1:8000/items?item=apple'\u001b[0m\n\u001b[0m            ^\u001b[0m\n\u001b[0;31mSyntaxError\u001b[0m\u001b[0;31m:\u001b[0m invalid syntax\n"
          ]
        }
      ]
    },
    {
      "cell_type": "markdown",
      "source": [
        "**L'erreur :** Tu as tapé une commande `curl` dans un bloc Python, ce qui provoque une erreur de syntaxe.  \n",
        "**La solution :** Ajoute un `!` devant la commande `curl` pour l’exécuter dans le terminal Colab."
      ],
      "metadata": {
        "id": "eSxokzStRVJh"
      }
    },
    {
      "cell_type": "code",
      "source": [
        "!curl -X POST -H \"Content-Type: application/json\" 'http://127.0.0.1:8000/items?item=apple'"
      ],
      "metadata": {
        "colab": {
          "base_uri": "https://localhost:8080/"
        },
        "id": "yKJVS2oCRUqa",
        "outputId": "d7482d99-04ef-444b-fc64-2f48a755b1fe"
      },
      "execution_count": null,
      "outputs": [
        {
          "output_type": "stream",
          "name": "stdout",
          "text": [
            "curl: (7) Failed to connect to 127.0.0.1 port 8000 after 0 ms: Connection refused\n"
          ]
        }
      ]
    },
    {
      "cell_type": "markdown",
      "source": [
        "use:"
      ],
      "metadata": {
        "id": "N_70FaqcRb3H"
      }
    },
    {
      "cell_type": "code",
      "source": [
        "curl -X POST -H \"Content-Type: application/json\" -d '{\"text\":\"apple\"}' 'http://127.0.0.1:8000/items'"
      ],
      "metadata": {
        "colab": {
          "base_uri": "https://localhost:8080/",
          "height": 124
        },
        "id": "9xMG8EDzRcyg",
        "outputId": "cac62684-73cf-4c53-e99e-d9081f892295"
      },
      "execution_count": null,
      "outputs": [
        {
          "output_type": "error",
          "ename": "SyntaxError",
          "evalue": "invalid syntax (<ipython-input-82-d3488e1d570e>, line 1)",
          "traceback": [
            "\u001b[0;36m  File \u001b[0;32m\"<ipython-input-82-d3488e1d570e>\"\u001b[0;36m, line \u001b[0;32m1\u001b[0m\n\u001b[0;31m    curl -X POST -H \"Content-Type: application/json\" -d '{\"text\":\"apple\"}' 'http://127.0.0.1:8000/items'\u001b[0m\n\u001b[0m            ^\u001b[0m\n\u001b[0;31mSyntaxError\u001b[0m\u001b[0;31m:\u001b[0m invalid syntax\n"
          ]
        }
      ]
    },
    {
      "cell_type": "markdown",
      "source": [
        "**L'erreur :** Tu as tapé une commande `curl` dans un bloc Python, ce qui provoque une erreur de syntaxe.  \n",
        "**La solution :** Ajoute un `!` devant la commande `curl` pour l’exécuter dans le terminal Colab."
      ],
      "metadata": {
        "id": "cIymEFSnRetf"
      }
    },
    {
      "cell_type": "code",
      "source": [
        "!curl -X POST -H \"Content-Type: application/json\" -d '{\"text\":\"apple\"}' 'http://127.0.0.1:8000/items'"
      ],
      "metadata": {
        "colab": {
          "base_uri": "https://localhost:8080/"
        },
        "id": "Q4sCK5Z5RhND",
        "outputId": "33f039c0-9f70-40ce-82f0-59dc2b40f7c2"
      },
      "execution_count": null,
      "outputs": [
        {
          "output_type": "stream",
          "name": "stdout",
          "text": [
            "curl: (7) Failed to connect to 127.0.0.1 port 8000 after 0 ms: Connection refused\n"
          ]
        }
      ]
    },
    {
      "cell_type": "markdown",
      "source": [
        "3.5.5-Change the text attribute of the Item class:"
      ],
      "metadata": {
        "id": "evFgXAxeRl-r"
      }
    },
    {
      "cell_type": "code",
      "source": [
        "class Item(BaseModel):\n",
        "    # without default value\n",
        "    text: str\n",
        "    is_done: bool = False"
      ],
      "metadata": {
        "id": "Nmk1UlklRmyZ"
      },
      "execution_count": null,
      "outputs": []
    },
    {
      "cell_type": "markdown",
      "source": [
        "3.5.6-Add an item without a text value like the following:"
      ],
      "metadata": {
        "id": "VoXk2KY2RqEQ"
      }
    },
    {
      "cell_type": "code",
      "source": [
        "curl -X POST -H \"Content-Type: application/json\" -d '{\"title\":\"apple\"}' 'http://127.0.0.1:8000/items'"
      ],
      "metadata": {
        "colab": {
          "base_uri": "https://localhost:8080/",
          "height": 124
        },
        "id": "imkFQCzqRsvG",
        "outputId": "ed610e9d-95cf-488c-fc40-f85da5413742"
      },
      "execution_count": null,
      "outputs": [
        {
          "output_type": "error",
          "ename": "SyntaxError",
          "evalue": "invalid syntax (<ipython-input-85-1c08ebd13a47>, line 1)",
          "traceback": [
            "\u001b[0;36m  File \u001b[0;32m\"<ipython-input-85-1c08ebd13a47>\"\u001b[0;36m, line \u001b[0;32m1\u001b[0m\n\u001b[0;31m    curl -X POST -H \"Content-Type: application/json\" -d '{\"title\":\"apple\"}' 'http://127.0.0.1:8000/items'\u001b[0m\n\u001b[0m            ^\u001b[0m\n\u001b[0;31mSyntaxError\u001b[0m\u001b[0;31m:\u001b[0m invalid syntax\n"
          ]
        }
      ]
    },
    {
      "cell_type": "markdown",
      "source": [
        "**L'erreur :** Tu as tapé une commande `curl` dans un bloc Python, ce qui provoque une erreur de syntaxe.  \n",
        "**La solution :** Ajoute un `!` devant la commande `curl` pour l’exécuter dans le terminal Colab."
      ],
      "metadata": {
        "id": "23S8nKnKRva7"
      }
    },
    {
      "cell_type": "code",
      "source": [
        "!curl -X POST -H \"Content-Type: application/json\" -d '{\"title\":\"apple\"}' 'http://127.0.0.1:8000/items'"
      ],
      "metadata": {
        "colab": {
          "base_uri": "https://localhost:8080/"
        },
        "id": "k8vBks8xRxML",
        "outputId": "af6dc825-c2e9-4d30-d7f7-f2357e84ae7f"
      },
      "execution_count": null,
      "outputs": [
        {
          "output_type": "stream",
          "name": "stdout",
          "text": [
            "curl: (7) Failed to connect to 127.0.0.1 port 8000 after 0 ms: Connection refused\n"
          ]
        }
      ]
    },
    {
      "cell_type": "markdown",
      "source": [
        "3.6-Response Models:"
      ],
      "metadata": {
        "id": "XnepNrwtR1nG"
      }
    },
    {
      "cell_type": "markdown",
      "source": [
        "3.6.1-Update the app:\n",
        "..."
      ],
      "metadata": {
        "id": "ElD015xtR2ne"
      }
    },
    {
      "cell_type": "code",
      "source": [
        "...\n",
        "# Specify the response type will be a list of Item\n",
        "@app.get(\"/items\", response_model=list[Item])\n",
        "def list_item(limit: int = 10):\n",
        "...\n",
        "# Specify the response type will be an Item model\n",
        "@app.get(\"/items/{item_id}\", response_model=Item)\n",
        "def get_item(item_id: int) -> Item:"
      ],
      "metadata": {
        "colab": {
          "base_uri": "https://localhost:8080/",
          "height": 106
        },
        "id": "OH21YC5XR5SC",
        "outputId": "b21d2e83-84aa-4fff-b125-fbda8a2efe29"
      },
      "execution_count": null,
      "outputs": [
        {
          "output_type": "error",
          "ename": "IndentationError",
          "evalue": "expected an indented block after function definition on line 4 (<ipython-input-87-63c6e993c7b9>, line 5)",
          "traceback": [
            "\u001b[0;36m  File \u001b[0;32m\"<ipython-input-87-63c6e993c7b9>\"\u001b[0;36m, line \u001b[0;32m5\u001b[0m\n\u001b[0;31m    ...\u001b[0m\n\u001b[0m    ^\u001b[0m\n\u001b[0;31mIndentationError\u001b[0m\u001b[0;31m:\u001b[0m expected an indented block after function definition on line 4\n"
          ]
        }
      ]
    },
    {
      "cell_type": "markdown",
      "source": [
        "**L'rreur :** Le type de retour `-> Item` cause une redondance ou une erreur si `Item` n’est pas encore défini.  \n",
        "**La solution :** Supprimer `-> Item` et se fier uniquement à `response_model=Item` pour définir la réponse."
      ],
      "metadata": {
        "id": "7eJCAcjMSZby"
      }
    },
    {
      "cell_type": "code",
      "source": [
        "from fastapi import FastAPI\n",
        "from pydantic import BaseModel\n",
        "\n",
        "app = FastAPI()\n",
        "\n",
        "class Item(BaseModel):\n",
        "    text: str = None\n",
        "    is_done: bool = False\n",
        "\n",
        "# Specify that the response will be a list of Item\n",
        "@app.get(\"/items\", response_model=list[Item])\n",
        "def list_item(limit: int = 10):\n",
        "    return [Item(text=f\"Item {i}\", is_done=bool(i % 2)) for i in range(limit)]\n",
        "\n",
        "# Specify that the response will be a single Item\n",
        "@app.get(\"/items/{item_id}\", response_model=Item)\n",
        "def get_item(item_id: int):\n",
        "    return Item(text=f\"Item {item_id}\", is_done=False)\n"
      ],
      "metadata": {
        "id": "4c2Fo7VwSSfC"
      },
      "execution_count": null,
      "outputs": []
    },
    {
      "cell_type": "markdown",
      "source": [
        "**4-Streamlit:**"
      ],
      "metadata": {
        "id": "LsPV7mDQShlr"
      }
    },
    {
      "cell_type": "markdown",
      "source": [
        "4.1-What is Streamlit?:"
      ],
      "metadata": {
        "id": "pfBQgBTwpLUJ"
      }
    },
    {
      "cell_type": "markdown",
      "source": [
        "4.1.1-Install:"
      ],
      "metadata": {
        "id": "uDdVnb7NSifZ"
      }
    },
    {
      "cell_type": "code",
      "source": [
        "pip install streamlit"
      ],
      "metadata": {
        "colab": {
          "base_uri": "https://localhost:8080/"
        },
        "id": "qSw9m9xzSnCe",
        "outputId": "b9bbb1e3-dcdd-4bdf-e646-66ad9da26dc3"
      },
      "execution_count": null,
      "outputs": [
        {
          "output_type": "stream",
          "name": "stdout",
          "text": [
            "Collecting streamlit\n",
            "  Downloading streamlit-1.44.1-py3-none-any.whl.metadata (8.9 kB)\n",
            "Requirement already satisfied: altair<6,>=4.0 in /usr/local/lib/python3.11/dist-packages (from streamlit) (5.5.0)\n",
            "Requirement already satisfied: blinker<2,>=1.0.0 in /usr/local/lib/python3.11/dist-packages (from streamlit) (1.9.0)\n",
            "Requirement already satisfied: cachetools<6,>=4.0 in /usr/local/lib/python3.11/dist-packages (from streamlit) (5.5.2)\n",
            "Requirement already satisfied: click<9,>=7.0 in /usr/local/lib/python3.11/dist-packages (from streamlit) (8.1.8)\n",
            "Requirement already satisfied: numpy<3,>=1.23 in /usr/local/lib/python3.11/dist-packages (from streamlit) (2.0.2)\n",
            "Requirement already satisfied: packaging<25,>=20 in /usr/local/lib/python3.11/dist-packages (from streamlit) (24.2)\n",
            "Requirement already satisfied: pandas<3,>=1.4.0 in /usr/local/lib/python3.11/dist-packages (from streamlit) (2.2.2)\n",
            "Requirement already satisfied: pillow<12,>=7.1.0 in /usr/local/lib/python3.11/dist-packages (from streamlit) (11.1.0)\n",
            "Requirement already satisfied: protobuf<6,>=3.20 in /usr/local/lib/python3.11/dist-packages (from streamlit) (5.29.4)\n",
            "Requirement already satisfied: pyarrow>=7.0 in /usr/local/lib/python3.11/dist-packages (from streamlit) (18.1.0)\n",
            "Requirement already satisfied: requests<3,>=2.27 in /usr/local/lib/python3.11/dist-packages (from streamlit) (2.32.3)\n",
            "Requirement already satisfied: tenacity<10,>=8.1.0 in /usr/local/lib/python3.11/dist-packages (from streamlit) (9.1.2)\n",
            "Requirement already satisfied: toml<2,>=0.10.1 in /usr/local/lib/python3.11/dist-packages (from streamlit) (0.10.2)\n",
            "Requirement already satisfied: typing-extensions<5,>=4.4.0 in /usr/local/lib/python3.11/dist-packages (from streamlit) (4.13.2)\n",
            "Collecting watchdog<7,>=2.1.5 (from streamlit)\n",
            "  Downloading watchdog-6.0.0-py3-none-manylinux2014_x86_64.whl.metadata (44 kB)\n",
            "\u001b[2K     \u001b[90m━━━━━━━━━━━━━━━━━━━━━━━━━━━━━━━━━━━━━━━━\u001b[0m \u001b[32m44.3/44.3 kB\u001b[0m \u001b[31m1.6 MB/s\u001b[0m eta \u001b[36m0:00:00\u001b[0m\n",
            "\u001b[?25hRequirement already satisfied: gitpython!=3.1.19,<4,>=3.0.7 in /usr/local/lib/python3.11/dist-packages (from streamlit) (3.1.44)\n",
            "Collecting pydeck<1,>=0.8.0b4 (from streamlit)\n",
            "  Downloading pydeck-0.9.1-py2.py3-none-any.whl.metadata (4.1 kB)\n",
            "Requirement already satisfied: tornado<7,>=6.0.3 in /usr/local/lib/python3.11/dist-packages (from streamlit) (6.4.2)\n",
            "Requirement already satisfied: jinja2 in /usr/local/lib/python3.11/dist-packages (from altair<6,>=4.0->streamlit) (3.1.6)\n",
            "Requirement already satisfied: jsonschema>=3.0 in /usr/local/lib/python3.11/dist-packages (from altair<6,>=4.0->streamlit) (4.23.0)\n",
            "Requirement already satisfied: narwhals>=1.14.2 in /usr/local/lib/python3.11/dist-packages (from altair<6,>=4.0->streamlit) (1.35.0)\n",
            "Requirement already satisfied: gitdb<5,>=4.0.1 in /usr/local/lib/python3.11/dist-packages (from gitpython!=3.1.19,<4,>=3.0.7->streamlit) (4.0.12)\n",
            "Requirement already satisfied: python-dateutil>=2.8.2 in /usr/local/lib/python3.11/dist-packages (from pandas<3,>=1.4.0->streamlit) (2.8.2)\n",
            "Requirement already satisfied: pytz>=2020.1 in /usr/local/lib/python3.11/dist-packages (from pandas<3,>=1.4.0->streamlit) (2025.2)\n",
            "Requirement already satisfied: tzdata>=2022.7 in /usr/local/lib/python3.11/dist-packages (from pandas<3,>=1.4.0->streamlit) (2025.2)\n",
            "Requirement already satisfied: charset-normalizer<4,>=2 in /usr/local/lib/python3.11/dist-packages (from requests<3,>=2.27->streamlit) (3.4.1)\n",
            "Requirement already satisfied: idna<4,>=2.5 in /usr/local/lib/python3.11/dist-packages (from requests<3,>=2.27->streamlit) (3.10)\n",
            "Requirement already satisfied: urllib3<3,>=1.21.1 in /usr/local/lib/python3.11/dist-packages (from requests<3,>=2.27->streamlit) (2.3.0)\n",
            "Requirement already satisfied: certifi>=2017.4.17 in /usr/local/lib/python3.11/dist-packages (from requests<3,>=2.27->streamlit) (2025.1.31)\n",
            "Requirement already satisfied: smmap<6,>=3.0.1 in /usr/local/lib/python3.11/dist-packages (from gitdb<5,>=4.0.1->gitpython!=3.1.19,<4,>=3.0.7->streamlit) (5.0.2)\n",
            "Requirement already satisfied: MarkupSafe>=2.0 in /usr/local/lib/python3.11/dist-packages (from jinja2->altair<6,>=4.0->streamlit) (3.0.2)\n",
            "Requirement already satisfied: attrs>=22.2.0 in /usr/local/lib/python3.11/dist-packages (from jsonschema>=3.0->altair<6,>=4.0->streamlit) (25.3.0)\n",
            "Requirement already satisfied: jsonschema-specifications>=2023.03.6 in /usr/local/lib/python3.11/dist-packages (from jsonschema>=3.0->altair<6,>=4.0->streamlit) (2024.10.1)\n",
            "Requirement already satisfied: referencing>=0.28.4 in /usr/local/lib/python3.11/dist-packages (from jsonschema>=3.0->altair<6,>=4.0->streamlit) (0.36.2)\n",
            "Requirement already satisfied: rpds-py>=0.7.1 in /usr/local/lib/python3.11/dist-packages (from jsonschema>=3.0->altair<6,>=4.0->streamlit) (0.24.0)\n",
            "Requirement already satisfied: six>=1.5 in /usr/local/lib/python3.11/dist-packages (from python-dateutil>=2.8.2->pandas<3,>=1.4.0->streamlit) (1.17.0)\n",
            "Downloading streamlit-1.44.1-py3-none-any.whl (9.8 MB)\n",
            "\u001b[2K   \u001b[90m━━━━━━━━━━━━━━━━━━━━━━━━━━━━━━━━━━━━━━━━\u001b[0m \u001b[32m9.8/9.8 MB\u001b[0m \u001b[31m53.0 MB/s\u001b[0m eta \u001b[36m0:00:00\u001b[0m\n",
            "\u001b[?25hDownloading pydeck-0.9.1-py2.py3-none-any.whl (6.9 MB)\n",
            "\u001b[2K   \u001b[90m━━━━━━━━━━━━━━━━━━━━━━━━━━━━━━━━━━━━━━━━\u001b[0m \u001b[32m6.9/6.9 MB\u001b[0m \u001b[31m73.5 MB/s\u001b[0m eta \u001b[36m0:00:00\u001b[0m\n",
            "\u001b[?25hDownloading watchdog-6.0.0-py3-none-manylinux2014_x86_64.whl (79 kB)\n",
            "\u001b[2K   \u001b[90m━━━━━━━━━━━━━━━━━━━━━━━━━━━━━━━━━━━━━━━━\u001b[0m \u001b[32m79.1/79.1 kB\u001b[0m \u001b[31m5.7 MB/s\u001b[0m eta \u001b[36m0:00:00\u001b[0m\n",
            "\u001b[?25hInstalling collected packages: watchdog, pydeck, streamlit\n",
            "Successfully installed pydeck-0.9.1 streamlit-1.44.1 watchdog-6.0.0\n"
          ]
        }
      ]
    },
    {
      "cell_type": "markdown",
      "source": [
        "4.1.2-Test it:"
      ],
      "metadata": {
        "id": "H3p4uPGSSq4q"
      }
    },
    {
      "cell_type": "code",
      "source": [
        "import streamlit as st\n",
        "\n",
        "st.write('Hello World')"
      ],
      "metadata": {
        "colab": {
          "base_uri": "https://localhost:8080/"
        },
        "id": "CG8kMDi1SsFM",
        "outputId": "caeed790-5c3d-4a9f-f2ad-9ee3c9e978d0"
      },
      "execution_count": null,
      "outputs": [
        {
          "output_type": "stream",
          "name": "stderr",
          "text": [
            "2025-04-22 11:38:15.217 WARNING streamlit.runtime.scriptrunner_utils.script_run_context: Thread 'MainThread': missing ScriptRunContext! This warning can be ignored when running in bare mode.\n",
            "2025-04-22 11:38:15.291 \n",
            "  \u001b[33m\u001b[1mWarning:\u001b[0m to view this Streamlit app on a browser, run it with the following\n",
            "  command:\n",
            "\n",
            "    streamlit run /usr/local/lib/python3.11/dist-packages/colab_kernel_launcher.py [ARGUMENTS]\n",
            "2025-04-22 11:38:15.292 Thread 'MainThread': missing ScriptRunContext! This warning can be ignored when running in bare mode.\n",
            "2025-04-22 11:38:15.293 Thread 'MainThread': missing ScriptRunContext! This warning can be ignored when running in bare mode.\n",
            "2025-04-22 11:38:15.294 Thread 'MainThread': missing ScriptRunContext! This warning can be ignored when running in bare mode.\n"
          ]
        }
      ]
    },
    {
      "cell_type": "markdown",
      "source": [
        "4.1.3-Example:"
      ],
      "metadata": {
        "id": "dtnyqA_GSyhd"
      }
    },
    {
      "cell_type": "code",
      "source": [
        "streamlit run main.py"
      ],
      "metadata": {
        "colab": {
          "base_uri": "https://localhost:8080/",
          "height": 106
        },
        "id": "5qg2_3nDSziS",
        "outputId": "e56b59d7-ae9d-4ff5-99ad-2e07a50f784b"
      },
      "execution_count": null,
      "outputs": [
        {
          "output_type": "error",
          "ename": "SyntaxError",
          "evalue": "invalid syntax (<ipython-input-91-2e02c77d4725>, line 1)",
          "traceback": [
            "\u001b[0;36m  File \u001b[0;32m\"<ipython-input-91-2e02c77d4725>\"\u001b[0;36m, line \u001b[0;32m1\u001b[0m\n\u001b[0;31m    streamlit run main.py\u001b[0m\n\u001b[0m              ^\u001b[0m\n\u001b[0;31mSyntaxError\u001b[0m\u001b[0;31m:\u001b[0m invalid syntax\n"
          ]
        }
      ]
    },
    {
      "cell_type": "code",
      "source": [
        "from fastapi import FastAPI, Request\n",
        "\n",
        "app = FastAPI()\n",
        "\n",
        "@app.post(\"/items\")\n",
        "async def create_item(request: Request):\n",
        "    body = await request.json()\n",
        "    params = request.query_params\n",
        "    return {\"body\": body, \"query_params\": dict(params)}"
      ],
      "metadata": {
        "id": "S63N_ozpd2q1"
      },
      "execution_count": null,
      "outputs": []
    },
    {
      "cell_type": "markdown",
      "source": [
        "4.1.4-Add a text input:"
      ],
      "metadata": {
        "id": "Z3idr2rAfS00"
      }
    },
    {
      "cell_type": "code",
      "source": [
        "st.text_input('Favorite Movie?')"
      ],
      "metadata": {
        "colab": {
          "base_uri": "https://localhost:8080/",
          "height": 177
        },
        "id": "1IJchxyBfXye",
        "outputId": "962ec25c-1579-4688-97d7-fc486112f260"
      },
      "execution_count": null,
      "outputs": [
        {
          "output_type": "stream",
          "name": "stderr",
          "text": [
            "2025-04-22 12:33:38.041 Thread 'MainThread': missing ScriptRunContext! This warning can be ignored when running in bare mode.\n",
            "2025-04-22 12:33:38.042 Thread 'MainThread': missing ScriptRunContext! This warning can be ignored when running in bare mode.\n",
            "2025-04-22 12:33:38.043 Thread 'MainThread': missing ScriptRunContext! This warning can be ignored when running in bare mode.\n",
            "2025-04-22 12:33:38.044 Thread 'MainThread': missing ScriptRunContext! This warning can be ignored when running in bare mode.\n",
            "2025-04-22 12:33:38.045 Session state does not function when running a script without `streamlit run`\n",
            "2025-04-22 12:33:38.047 Thread 'MainThread': missing ScriptRunContext! This warning can be ignored when running in bare mode.\n",
            "2025-04-22 12:33:38.048 Thread 'MainThread': missing ScriptRunContext! This warning can be ignored when running in bare mode.\n"
          ]
        },
        {
          "output_type": "execute_result",
          "data": {
            "text/plain": [
              "''"
            ],
            "application/vnd.google.colaboratory.intrinsic+json": {
              "type": "string"
            }
          },
          "metadata": {},
          "execution_count": 93
        }
      ]
    },
    {
      "cell_type": "markdown",
      "source": [
        "4.2-Using Input Elements:"
      ],
      "metadata": {
        "id": "tUf9CdgZfcA1"
      }
    },
    {
      "cell_type": "markdown",
      "source": [
        "4.2.1-Exemple of different input elements you can use:"
      ],
      "metadata": {
        "id": "Qtwq27PTfiHU"
      }
    },
    {
      "cell_type": "code",
      "source": [
        "# this capture the return value into x\n",
        "x = st.text_input('Favorite Movie?')\n",
        "\n",
        "st.write(f\"Your favorite movie is: {x}\")"
      ],
      "metadata": {
        "colab": {
          "base_uri": "https://localhost:8080/",
          "height": 193
        },
        "id": "3uzADmeFumrE",
        "outputId": "add5e115-8ad4-4842-82b8-66c3ab746e7d"
      },
      "execution_count": null,
      "outputs": [
        {
          "output_type": "error",
          "ename": "NameError",
          "evalue": "name 'st' is not defined",
          "traceback": [
            "\u001b[0;31m---------------------------------------------------------------------------\u001b[0m",
            "\u001b[0;31mNameError\u001b[0m                                 Traceback (most recent call last)",
            "\u001b[0;32m<ipython-input-1-09f91c885c64>\u001b[0m in \u001b[0;36m<cell line: 0>\u001b[0;34m()\u001b[0m\n\u001b[1;32m      1\u001b[0m \u001b[0;31m# this capture the return value into x\u001b[0m\u001b[0;34m\u001b[0m\u001b[0;34m\u001b[0m\u001b[0m\n\u001b[0;32m----> 2\u001b[0;31m \u001b[0mx\u001b[0m \u001b[0;34m=\u001b[0m \u001b[0mst\u001b[0m\u001b[0;34m.\u001b[0m\u001b[0mtext_input\u001b[0m\u001b[0;34m(\u001b[0m\u001b[0;34m'Favorite Movie?'\u001b[0m\u001b[0;34m)\u001b[0m\u001b[0;34m\u001b[0m\u001b[0;34m\u001b[0m\u001b[0m\n\u001b[0m\u001b[1;32m      3\u001b[0m \u001b[0;34m\u001b[0m\u001b[0m\n\u001b[1;32m      4\u001b[0m \u001b[0mst\u001b[0m\u001b[0;34m.\u001b[0m\u001b[0mwrite\u001b[0m\u001b[0;34m(\u001b[0m\u001b[0;34mf\"Your favorite movie is: {x}\"\u001b[0m\u001b[0;34m)\u001b[0m\u001b[0;34m\u001b[0m\u001b[0;34m\u001b[0m\u001b[0m\n",
            "\u001b[0;31mNameError\u001b[0m: name 'st' is not defined"
          ]
        }
      ]
    },
    {
      "cell_type": "code",
      "source": [
        "x = st.text_input('Favorite Movie?')\n",
        "st.write(f\"Your favorite movie is: {x}\")"
      ],
      "metadata": {
        "colab": {
          "base_uri": "https://localhost:8080/",
          "height": 159
        },
        "id": "AQHD6qMQ14AW",
        "outputId": "7e44a49b-dd32-4ab0-89f7-07cc6e418cf5"
      },
      "execution_count": null,
      "outputs": [
        {
          "output_type": "error",
          "ename": "NameError",
          "evalue": "name 'st' is not defined",
          "traceback": [
            "\u001b[0;31m---------------------------------------------------------------------------\u001b[0m",
            "\u001b[0;31mNameError\u001b[0m                                 Traceback (most recent call last)",
            "\u001b[0;32m<ipython-input-5-1c858806288b>\u001b[0m in \u001b[0;36m<cell line: 0>\u001b[0;34m()\u001b[0m\n\u001b[0;32m----> 1\u001b[0;31m \u001b[0mx\u001b[0m \u001b[0;34m=\u001b[0m \u001b[0mst\u001b[0m\u001b[0;34m.\u001b[0m\u001b[0mtext_input\u001b[0m\u001b[0;34m(\u001b[0m\u001b[0;34m'Favorite Movie?'\u001b[0m\u001b[0;34m)\u001b[0m\u001b[0;34m\u001b[0m\u001b[0;34m\u001b[0m\u001b[0m\n\u001b[0m\u001b[1;32m      2\u001b[0m \u001b[0mst\u001b[0m\u001b[0;34m.\u001b[0m\u001b[0mwrite\u001b[0m\u001b[0;34m(\u001b[0m\u001b[0;34mf\"Your favorite movie is: {x}\"\u001b[0m\u001b[0;34m)\u001b[0m\u001b[0;34m\u001b[0m\u001b[0;34m\u001b[0m\u001b[0m\n",
            "\u001b[0;31mNameError\u001b[0m: name 'st' is not defined"
          ]
        }
      ]
    },
    {
      "cell_type": "markdown",
      "source": [
        "4.2.2-Create buttons:"
      ],
      "metadata": {
        "id": "-c_z45cuA9oT"
      }
    },
    {
      "cell_type": "code",
      "source": [
        "is_clicked = st.button(\"Click Me\")"
      ],
      "metadata": {
        "colab": {
          "base_uri": "https://localhost:8080/",
          "height": 141
        },
        "id": "sLg_-Wfh2ae7",
        "outputId": "10394574-950f-4cf8-d5c9-e0507eda8173"
      },
      "execution_count": null,
      "outputs": [
        {
          "output_type": "error",
          "ename": "NameError",
          "evalue": "name 'st' is not defined",
          "traceback": [
            "\u001b[0;31m---------------------------------------------------------------------------\u001b[0m",
            "\u001b[0;31mNameError\u001b[0m                                 Traceback (most recent call last)",
            "\u001b[0;32m<ipython-input-8-0afc6036dbcf>\u001b[0m in \u001b[0;36m<cell line: 0>\u001b[0;34m()\u001b[0m\n\u001b[0;32m----> 1\u001b[0;31m \u001b[0mis_clicked\u001b[0m \u001b[0;34m=\u001b[0m \u001b[0mst\u001b[0m\u001b[0;34m.\u001b[0m\u001b[0mbutton\u001b[0m\u001b[0;34m(\u001b[0m\u001b[0;34m\"Click Me\"\u001b[0m\u001b[0;34m)\u001b[0m\u001b[0;34m\u001b[0m\u001b[0;34m\u001b[0m\u001b[0m\n\u001b[0m",
            "\u001b[0;31mNameError\u001b[0m: name 'st' is not defined"
          ]
        }
      ]
    },
    {
      "cell_type": "markdown",
      "source": [
        "4.2.3-Example of Streamlit supports Markdown formatting by default:"
      ],
      "metadata": {
        "id": "pdbm2xHVBDIF"
      }
    },
    {
      "cell_type": "code",
      "source": [
        "import streamlit as st\n",
        "\n",
        "st.write(\"## This is a H2 Title!\")\n",
        "\n",
        "st.markdown(\"*Streamlit* is **really** ***cool***.\")\n",
        "st.markdown('''\n",
        "    :red[Streamlit] :orange[can] :green[write] :blue[text] :violet[in]\n",
        "    :gray[pretty] :rainbow[colors] and :blue-background[highlight] text.''')\n",
        "st.markdown(\"Here's a bouquet &mdash;\\\n",
        "            :tulip::cherry_blossom::rose::hibiscus::sunflower::blossom:\")\n",
        "\n",
        "multi = '''If you end a line with two spaces,\n",
        "a soft return is used for the next line.\n",
        "\n",
        "Two (or more) newline characters in a row will result in a hard return.\n",
        "'''\n",
        "st.markdown(multi)"
      ],
      "metadata": {
        "colab": {
          "base_uri": "https://localhost:8080/"
        },
        "id": "BtNab9OU2faX",
        "outputId": "fdd54420-af6c-4c9a-917d-b71f3c18e6b5"
      },
      "execution_count": null,
      "outputs": [
        {
          "output_type": "stream",
          "name": "stderr",
          "text": [
            "2025-04-22 14:14:39.932 WARNING streamlit.runtime.scriptrunner_utils.script_run_context: Thread 'MainThread': missing ScriptRunContext! This warning can be ignored when running in bare mode.\n",
            "2025-04-22 14:14:40.030 \n",
            "  \u001b[33m\u001b[1mWarning:\u001b[0m to view this Streamlit app on a browser, run it with the following\n",
            "  command:\n",
            "\n",
            "    streamlit run /usr/local/lib/python3.11/dist-packages/colab_kernel_launcher.py [ARGUMENTS]\n",
            "2025-04-22 14:14:40.031 Thread 'MainThread': missing ScriptRunContext! This warning can be ignored when running in bare mode.\n",
            "2025-04-22 14:14:40.032 Thread 'MainThread': missing ScriptRunContext! This warning can be ignored when running in bare mode.\n",
            "2025-04-22 14:14:40.035 Thread 'MainThread': missing ScriptRunContext! This warning can be ignored when running in bare mode.\n",
            "2025-04-22 14:14:40.037 Thread 'MainThread': missing ScriptRunContext! This warning can be ignored when running in bare mode.\n",
            "2025-04-22 14:14:40.038 Thread 'MainThread': missing ScriptRunContext! This warning can be ignored when running in bare mode.\n",
            "2025-04-22 14:14:40.040 Thread 'MainThread': missing ScriptRunContext! This warning can be ignored when running in bare mode.\n",
            "2025-04-22 14:14:40.041 Thread 'MainThread': missing ScriptRunContext! This warning can be ignored when running in bare mode.\n",
            "2025-04-22 14:14:40.042 Thread 'MainThread': missing ScriptRunContext! This warning can be ignored when running in bare mode.\n",
            "2025-04-22 14:14:40.044 Thread 'MainThread': missing ScriptRunContext! This warning can be ignored when running in bare mode.\n",
            "2025-04-22 14:14:40.045 Thread 'MainThread': missing ScriptRunContext! This warning can be ignored when running in bare mode.\n",
            "2025-04-22 14:14:40.047 Thread 'MainThread': missing ScriptRunContext! This warning can be ignored when running in bare mode.\n"
          ]
        },
        {
          "output_type": "execute_result",
          "data": {
            "text/plain": [
              "DeltaGenerator()"
            ]
          },
          "metadata": {},
          "execution_count": 9
        }
      ]
    },
    {
      "cell_type": "markdown",
      "source": [
        "4.3-Working with Data:"
      ],
      "metadata": {
        "id": "iBCwlHCwBGL4"
      }
    },
    {
      "cell_type": "markdown",
      "source": [
        "4.3.1-CSV file (movies.csv contain different movies available on Netflix):"
      ],
      "metadata": {
        "id": "6n-lnJaCBJ7T"
      }
    },
    {
      "cell_type": "code",
      "source": [
        "import pandas as pd\n",
        "\n",
        "data = pd.read_csv(\"movies.csv\")\n",
        "# This shows the data in a nice table\n",
        "st.write(data)  # display the data inside the app"
      ],
      "metadata": {
        "colab": {
          "base_uri": "https://localhost:8080/",
          "height": 391
        },
        "id": "Zs4HwyzN2jxL",
        "outputId": "05694644-d165-4911-aed4-f1eac3e8df21"
      },
      "execution_count": null,
      "outputs": [
        {
          "output_type": "error",
          "ename": "FileNotFoundError",
          "evalue": "[Errno 2] No such file or directory: 'movies.csv'",
          "traceback": [
            "\u001b[0;31m---------------------------------------------------------------------------\u001b[0m",
            "\u001b[0;31mFileNotFoundError\u001b[0m                         Traceback (most recent call last)",
            "\u001b[0;32m<ipython-input-10-890f9dd1a422>\u001b[0m in \u001b[0;36m<cell line: 0>\u001b[0;34m()\u001b[0m\n\u001b[1;32m      1\u001b[0m \u001b[0;32mimport\u001b[0m \u001b[0mpandas\u001b[0m \u001b[0;32mas\u001b[0m \u001b[0mpd\u001b[0m\u001b[0;34m\u001b[0m\u001b[0;34m\u001b[0m\u001b[0m\n\u001b[1;32m      2\u001b[0m \u001b[0;34m\u001b[0m\u001b[0m\n\u001b[0;32m----> 3\u001b[0;31m \u001b[0mdata\u001b[0m \u001b[0;34m=\u001b[0m \u001b[0mpd\u001b[0m\u001b[0;34m.\u001b[0m\u001b[0mread_csv\u001b[0m\u001b[0;34m(\u001b[0m\u001b[0;34m\"movies.csv\"\u001b[0m\u001b[0;34m)\u001b[0m\u001b[0;34m\u001b[0m\u001b[0;34m\u001b[0m\u001b[0m\n\u001b[0m\u001b[1;32m      4\u001b[0m \u001b[0;31m# This shows the data in a nice table\u001b[0m\u001b[0;34m\u001b[0m\u001b[0;34m\u001b[0m\u001b[0m\n\u001b[1;32m      5\u001b[0m \u001b[0mst\u001b[0m\u001b[0;34m.\u001b[0m\u001b[0mwrite\u001b[0m\u001b[0;34m(\u001b[0m\u001b[0mdata\u001b[0m\u001b[0;34m)\u001b[0m  \u001b[0;31m# display the data inside the app\u001b[0m\u001b[0;34m\u001b[0m\u001b[0;34m\u001b[0m\u001b[0m\n",
            "\u001b[0;32m/usr/local/lib/python3.11/dist-packages/pandas/io/parsers/readers.py\u001b[0m in \u001b[0;36mread_csv\u001b[0;34m(filepath_or_buffer, sep, delimiter, header, names, index_col, usecols, dtype, engine, converters, true_values, false_values, skipinitialspace, skiprows, skipfooter, nrows, na_values, keep_default_na, na_filter, verbose, skip_blank_lines, parse_dates, infer_datetime_format, keep_date_col, date_parser, date_format, dayfirst, cache_dates, iterator, chunksize, compression, thousands, decimal, lineterminator, quotechar, quoting, doublequote, escapechar, comment, encoding, encoding_errors, dialect, on_bad_lines, delim_whitespace, low_memory, memory_map, float_precision, storage_options, dtype_backend)\u001b[0m\n\u001b[1;32m   1024\u001b[0m     \u001b[0mkwds\u001b[0m\u001b[0;34m.\u001b[0m\u001b[0mupdate\u001b[0m\u001b[0;34m(\u001b[0m\u001b[0mkwds_defaults\u001b[0m\u001b[0;34m)\u001b[0m\u001b[0;34m\u001b[0m\u001b[0;34m\u001b[0m\u001b[0m\n\u001b[1;32m   1025\u001b[0m \u001b[0;34m\u001b[0m\u001b[0m\n\u001b[0;32m-> 1026\u001b[0;31m     \u001b[0;32mreturn\u001b[0m \u001b[0m_read\u001b[0m\u001b[0;34m(\u001b[0m\u001b[0mfilepath_or_buffer\u001b[0m\u001b[0;34m,\u001b[0m \u001b[0mkwds\u001b[0m\u001b[0;34m)\u001b[0m\u001b[0;34m\u001b[0m\u001b[0;34m\u001b[0m\u001b[0m\n\u001b[0m\u001b[1;32m   1027\u001b[0m \u001b[0;34m\u001b[0m\u001b[0m\n\u001b[1;32m   1028\u001b[0m \u001b[0;34m\u001b[0m\u001b[0m\n",
            "\u001b[0;32m/usr/local/lib/python3.11/dist-packages/pandas/io/parsers/readers.py\u001b[0m in \u001b[0;36m_read\u001b[0;34m(filepath_or_buffer, kwds)\u001b[0m\n\u001b[1;32m    618\u001b[0m \u001b[0;34m\u001b[0m\u001b[0m\n\u001b[1;32m    619\u001b[0m     \u001b[0;31m# Create the parser.\u001b[0m\u001b[0;34m\u001b[0m\u001b[0;34m\u001b[0m\u001b[0m\n\u001b[0;32m--> 620\u001b[0;31m     \u001b[0mparser\u001b[0m \u001b[0;34m=\u001b[0m \u001b[0mTextFileReader\u001b[0m\u001b[0;34m(\u001b[0m\u001b[0mfilepath_or_buffer\u001b[0m\u001b[0;34m,\u001b[0m \u001b[0;34m**\u001b[0m\u001b[0mkwds\u001b[0m\u001b[0;34m)\u001b[0m\u001b[0;34m\u001b[0m\u001b[0;34m\u001b[0m\u001b[0m\n\u001b[0m\u001b[1;32m    621\u001b[0m \u001b[0;34m\u001b[0m\u001b[0m\n\u001b[1;32m    622\u001b[0m     \u001b[0;32mif\u001b[0m \u001b[0mchunksize\u001b[0m \u001b[0;32mor\u001b[0m \u001b[0miterator\u001b[0m\u001b[0;34m:\u001b[0m\u001b[0;34m\u001b[0m\u001b[0;34m\u001b[0m\u001b[0m\n",
            "\u001b[0;32m/usr/local/lib/python3.11/dist-packages/pandas/io/parsers/readers.py\u001b[0m in \u001b[0;36m__init__\u001b[0;34m(self, f, engine, **kwds)\u001b[0m\n\u001b[1;32m   1618\u001b[0m \u001b[0;34m\u001b[0m\u001b[0m\n\u001b[1;32m   1619\u001b[0m         \u001b[0mself\u001b[0m\u001b[0;34m.\u001b[0m\u001b[0mhandles\u001b[0m\u001b[0;34m:\u001b[0m \u001b[0mIOHandles\u001b[0m \u001b[0;34m|\u001b[0m \u001b[0;32mNone\u001b[0m \u001b[0;34m=\u001b[0m \u001b[0;32mNone\u001b[0m\u001b[0;34m\u001b[0m\u001b[0;34m\u001b[0m\u001b[0m\n\u001b[0;32m-> 1620\u001b[0;31m         \u001b[0mself\u001b[0m\u001b[0;34m.\u001b[0m\u001b[0m_engine\u001b[0m \u001b[0;34m=\u001b[0m \u001b[0mself\u001b[0m\u001b[0;34m.\u001b[0m\u001b[0m_make_engine\u001b[0m\u001b[0;34m(\u001b[0m\u001b[0mf\u001b[0m\u001b[0;34m,\u001b[0m \u001b[0mself\u001b[0m\u001b[0;34m.\u001b[0m\u001b[0mengine\u001b[0m\u001b[0;34m)\u001b[0m\u001b[0;34m\u001b[0m\u001b[0;34m\u001b[0m\u001b[0m\n\u001b[0m\u001b[1;32m   1621\u001b[0m \u001b[0;34m\u001b[0m\u001b[0m\n\u001b[1;32m   1622\u001b[0m     \u001b[0;32mdef\u001b[0m \u001b[0mclose\u001b[0m\u001b[0;34m(\u001b[0m\u001b[0mself\u001b[0m\u001b[0;34m)\u001b[0m \u001b[0;34m->\u001b[0m \u001b[0;32mNone\u001b[0m\u001b[0;34m:\u001b[0m\u001b[0;34m\u001b[0m\u001b[0;34m\u001b[0m\u001b[0m\n",
            "\u001b[0;32m/usr/local/lib/python3.11/dist-packages/pandas/io/parsers/readers.py\u001b[0m in \u001b[0;36m_make_engine\u001b[0;34m(self, f, engine)\u001b[0m\n\u001b[1;32m   1878\u001b[0m                 \u001b[0;32mif\u001b[0m \u001b[0;34m\"b\"\u001b[0m \u001b[0;32mnot\u001b[0m \u001b[0;32min\u001b[0m \u001b[0mmode\u001b[0m\u001b[0;34m:\u001b[0m\u001b[0;34m\u001b[0m\u001b[0;34m\u001b[0m\u001b[0m\n\u001b[1;32m   1879\u001b[0m                     \u001b[0mmode\u001b[0m \u001b[0;34m+=\u001b[0m \u001b[0;34m\"b\"\u001b[0m\u001b[0;34m\u001b[0m\u001b[0;34m\u001b[0m\u001b[0m\n\u001b[0;32m-> 1880\u001b[0;31m             self.handles = get_handle(\n\u001b[0m\u001b[1;32m   1881\u001b[0m                 \u001b[0mf\u001b[0m\u001b[0;34m,\u001b[0m\u001b[0;34m\u001b[0m\u001b[0;34m\u001b[0m\u001b[0m\n\u001b[1;32m   1882\u001b[0m                 \u001b[0mmode\u001b[0m\u001b[0;34m,\u001b[0m\u001b[0;34m\u001b[0m\u001b[0;34m\u001b[0m\u001b[0m\n",
            "\u001b[0;32m/usr/local/lib/python3.11/dist-packages/pandas/io/common.py\u001b[0m in \u001b[0;36mget_handle\u001b[0;34m(path_or_buf, mode, encoding, compression, memory_map, is_text, errors, storage_options)\u001b[0m\n\u001b[1;32m    871\u001b[0m         \u001b[0;32mif\u001b[0m \u001b[0mioargs\u001b[0m\u001b[0;34m.\u001b[0m\u001b[0mencoding\u001b[0m \u001b[0;32mand\u001b[0m \u001b[0;34m\"b\"\u001b[0m \u001b[0;32mnot\u001b[0m \u001b[0;32min\u001b[0m \u001b[0mioargs\u001b[0m\u001b[0;34m.\u001b[0m\u001b[0mmode\u001b[0m\u001b[0;34m:\u001b[0m\u001b[0;34m\u001b[0m\u001b[0;34m\u001b[0m\u001b[0m\n\u001b[1;32m    872\u001b[0m             \u001b[0;31m# Encoding\u001b[0m\u001b[0;34m\u001b[0m\u001b[0;34m\u001b[0m\u001b[0m\n\u001b[0;32m--> 873\u001b[0;31m             handle = open(\n\u001b[0m\u001b[1;32m    874\u001b[0m                 \u001b[0mhandle\u001b[0m\u001b[0;34m,\u001b[0m\u001b[0;34m\u001b[0m\u001b[0;34m\u001b[0m\u001b[0m\n\u001b[1;32m    875\u001b[0m                 \u001b[0mioargs\u001b[0m\u001b[0;34m.\u001b[0m\u001b[0mmode\u001b[0m\u001b[0;34m,\u001b[0m\u001b[0;34m\u001b[0m\u001b[0;34m\u001b[0m\u001b[0m\n",
            "\u001b[0;31mFileNotFoundError\u001b[0m: [Errno 2] No such file or directory: 'movies.csv'"
          ]
        }
      ]
    },
    {
      "cell_type": "markdown",
      "source": [
        "4.3.2-Show your data in a graph:"
      ],
      "metadata": {
        "id": "tDB77TC226eX"
      }
    },
    {
      "cell_type": "code",
      "source": [
        "import numpy as np\n",
        "\n",
        "# Some random generated data\n",
        "chart_data = pd.DataFrame(\n",
        "    np.random.randn(20, 3),\n",
        "    columns=[\"a\", \"b\", \"c\"]\n",
        ")\n",
        "\n",
        "st.bar_chart(chart_data)\n",
        "st.line_chart(chart_data)"
      ],
      "metadata": {
        "colab": {
          "base_uri": "https://localhost:8080/"
        },
        "id": "ltOVbEQy2nR2",
        "outputId": "c23d5af3-a64c-4455-ee99-d173998354b2"
      },
      "execution_count": null,
      "outputs": [
        {
          "output_type": "stream",
          "name": "stderr",
          "text": [
            "2025-04-22 14:15:10.247 Thread 'MainThread': missing ScriptRunContext! This warning can be ignored when running in bare mode.\n",
            "2025-04-22 14:15:10.248 Thread 'MainThread': missing ScriptRunContext! This warning can be ignored when running in bare mode.\n",
            "2025-04-22 14:15:10.313 Thread 'MainThread': missing ScriptRunContext! This warning can be ignored when running in bare mode.\n",
            "2025-04-22 14:15:10.314 Thread 'MainThread': missing ScriptRunContext! This warning can be ignored when running in bare mode.\n"
          ]
        },
        {
          "output_type": "execute_result",
          "data": {
            "text/plain": [
              "DeltaGenerator()"
            ]
          },
          "metadata": {},
          "execution_count": 11
        }
      ]
    },
    {
      "cell_type": "markdown",
      "source": [
        "4.4-Loan Repayments App:"
      ],
      "metadata": {
        "id": "INlgnvkj2z1e"
      }
    },
    {
      "cell_type": "markdown",
      "source": [
        "4.4.1-Build a Loan Repayments Calculator to put in practise all of this:"
      ],
      "metadata": {
        "id": "pJoAtvvJ2wJD"
      }
    },
    {
      "cell_type": "code",
      "source": [
        "import streamlit as st\n",
        "import pandas as pd\n",
        "import matplotlib.pyplot as plt\n",
        "import math\n",
        "\n",
        "st.title(\"Mortgage Repayments Calculator\")\n",
        "\n",
        "st.write(\"### Input Data\")\n",
        "col1, col2 = st.columns(2)  # Display elements in 2 column using the column component\n",
        "# Set a default value or minimum/maximum value\n",
        "home_value = col1.number_input(\"Home Value\", min_value=0, value=500000)\n",
        "deposit = col1.number_input(\"Deposit\", min_value=0, value=100000)\n",
        "interest_rate = col2.number_input(\"Interest Rate (in %)\", min_value=0.0, value=5.5)\n",
        "loan_term = col2.number_input(\"Loan Term (in years)\", min_value=1, value=30)\n",
        "\n",
        "# Calculate the repayments.\n",
        "loan_amount = home_value - deposit\n",
        "monthly_interest_rate = (interest_rate / 100) / 12\n",
        "number_of_payments = loan_term * 12\n",
        "monthly_payment = (\n",
        "    loan_amount\n",
        "    * (monthly_interest_rate * (1 + monthly_interest_rate) ** number_of_payments)\n",
        "    / ((1 + monthly_interest_rate) ** number_of_payments - 1)\n",
        ")\n",
        "\n",
        "# Display the repayments.\n",
        "total_payments = monthly_payment * number_of_payments\n",
        "total_interest = total_payments - loan_amount\n",
        "\n",
        "st.write(\"### Repayments\")\n",
        "col1, col2, col3 = st.columns(3)    # Create 3 columns\n",
        "col1.metric(label=\"Monthly Repayments\", value=f\"${monthly_payment:,.2f}\")\n",
        "col2.metric(label=\"Total Repayments\", value=f\"${total_payments:,.0f}\")\n",
        "col3.metric(label=\"Total Interest\", value=f\"${total_interest:,.0f}\")\n",
        "\n",
        "\n",
        "# Create a data-frame with the payment schedule.\n",
        "schedule = []\n",
        "remaining_balance = loan_amount\n",
        "\n",
        "for i in range(1, number_of_payments + 1):\n",
        "    interest_payment = remaining_balance * monthly_interest_rate\n",
        "    principal_payment = monthly_payment - interest_payment\n",
        "    remaining_balance -= principal_payment\n",
        "    year = math.ceil(i / 12)  # Calculate the year into the loan\n",
        "    schedule.append(\n",
        "        [\n",
        "            i,\n",
        "            monthly_payment,\n",
        "            principal_payment,\n",
        "            interest_payment,\n",
        "            remaining_balance,\n",
        "            year,\n",
        "        ]\n",
        "    )\n",
        "\n",
        "df = pd.DataFrame(\n",
        "    schedule,\n",
        "    columns=[\"Month\", \"Payment\", \"Principal\", \"Interest\", \"Remaining Balance\", \"Year\"],\n",
        ")\n",
        "\n",
        "# Display the data-frame as a chart.\n",
        "st.write(\"### Payment Schedule\")\n",
        "payments_df = df[[\"Year\", \"Remaining Balance\"]].groupby(\"Year\").min()\n",
        "st.line_chart(payments_df)"
      ],
      "metadata": {
        "colab": {
          "base_uri": "https://localhost:8080/"
        },
        "id": "04dvOTfT2rx_",
        "outputId": "df1342bf-500c-41e5-ecdb-e2f3444f2588"
      },
      "execution_count": null,
      "outputs": [
        {
          "output_type": "stream",
          "name": "stderr",
          "text": [
            "2025-04-22 14:15:31.547 Thread 'MainThread': missing ScriptRunContext! This warning can be ignored when running in bare mode.\n",
            "2025-04-22 14:15:31.548 Thread 'MainThread': missing ScriptRunContext! This warning can be ignored when running in bare mode.\n",
            "2025-04-22 14:15:31.549 Thread 'MainThread': missing ScriptRunContext! This warning can be ignored when running in bare mode.\n",
            "2025-04-22 14:15:31.550 Thread 'MainThread': missing ScriptRunContext! This warning can be ignored when running in bare mode.\n",
            "2025-04-22 14:15:31.551 Thread 'MainThread': missing ScriptRunContext! This warning can be ignored when running in bare mode.\n",
            "2025-04-22 14:15:31.552 Thread 'MainThread': missing ScriptRunContext! This warning can be ignored when running in bare mode.\n",
            "2025-04-22 14:15:31.553 Thread 'MainThread': missing ScriptRunContext! This warning can be ignored when running in bare mode.\n",
            "2025-04-22 14:15:31.554 Thread 'MainThread': missing ScriptRunContext! This warning can be ignored when running in bare mode.\n",
            "2025-04-22 14:15:31.555 Thread 'MainThread': missing ScriptRunContext! This warning can be ignored when running in bare mode.\n",
            "2025-04-22 14:15:31.555 Thread 'MainThread': missing ScriptRunContext! This warning can be ignored when running in bare mode.\n",
            "2025-04-22 14:15:31.558 Thread 'MainThread': missing ScriptRunContext! This warning can be ignored when running in bare mode.\n",
            "2025-04-22 14:15:31.559 Thread 'MainThread': missing ScriptRunContext! This warning can be ignored when running in bare mode.\n",
            "2025-04-22 14:15:31.561 Thread 'MainThread': missing ScriptRunContext! This warning can be ignored when running in bare mode.\n",
            "2025-04-22 14:15:31.561 Session state does not function when running a script without `streamlit run`\n",
            "2025-04-22 14:15:31.563 Thread 'MainThread': missing ScriptRunContext! This warning can be ignored when running in bare mode.\n",
            "2025-04-22 14:15:31.564 Thread 'MainThread': missing ScriptRunContext! This warning can be ignored when running in bare mode.\n",
            "2025-04-22 14:15:31.566 Thread 'MainThread': missing ScriptRunContext! This warning can be ignored when running in bare mode.\n",
            "2025-04-22 14:15:31.567 Thread 'MainThread': missing ScriptRunContext! This warning can be ignored when running in bare mode.\n",
            "2025-04-22 14:15:31.568 Thread 'MainThread': missing ScriptRunContext! This warning can be ignored when running in bare mode.\n",
            "2025-04-22 14:15:31.569 Thread 'MainThread': missing ScriptRunContext! This warning can be ignored when running in bare mode.\n",
            "2025-04-22 14:15:31.569 Thread 'MainThread': missing ScriptRunContext! This warning can be ignored when running in bare mode.\n",
            "2025-04-22 14:15:31.570 Thread 'MainThread': missing ScriptRunContext! This warning can be ignored when running in bare mode.\n",
            "2025-04-22 14:15:31.570 Thread 'MainThread': missing ScriptRunContext! This warning can be ignored when running in bare mode.\n",
            "2025-04-22 14:15:31.571 Thread 'MainThread': missing ScriptRunContext! This warning can be ignored when running in bare mode.\n",
            "2025-04-22 14:15:31.571 Thread 'MainThread': missing ScriptRunContext! This warning can be ignored when running in bare mode.\n",
            "2025-04-22 14:15:31.572 Thread 'MainThread': missing ScriptRunContext! This warning can be ignored when running in bare mode.\n",
            "2025-04-22 14:15:31.573 Thread 'MainThread': missing ScriptRunContext! This warning can be ignored when running in bare mode.\n",
            "2025-04-22 14:15:31.574 Thread 'MainThread': missing ScriptRunContext! This warning can be ignored when running in bare mode.\n",
            "2025-04-22 14:15:31.574 Thread 'MainThread': missing ScriptRunContext! This warning can be ignored when running in bare mode.\n",
            "2025-04-22 14:15:31.575 Thread 'MainThread': missing ScriptRunContext! This warning can be ignored when running in bare mode.\n",
            "2025-04-22 14:15:31.576 Thread 'MainThread': missing ScriptRunContext! This warning can be ignored when running in bare mode.\n",
            "2025-04-22 14:15:31.576 Thread 'MainThread': missing ScriptRunContext! This warning can be ignored when running in bare mode.\n",
            "2025-04-22 14:15:31.577 Thread 'MainThread': missing ScriptRunContext! This warning can be ignored when running in bare mode.\n",
            "2025-04-22 14:15:31.577 Thread 'MainThread': missing ScriptRunContext! This warning can be ignored when running in bare mode.\n",
            "2025-04-22 14:15:31.579 Thread 'MainThread': missing ScriptRunContext! This warning can be ignored when running in bare mode.\n",
            "2025-04-22 14:15:31.580 Thread 'MainThread': missing ScriptRunContext! This warning can be ignored when running in bare mode.\n",
            "2025-04-22 14:15:31.580 Thread 'MainThread': missing ScriptRunContext! This warning can be ignored when running in bare mode.\n",
            "2025-04-22 14:15:31.581 Thread 'MainThread': missing ScriptRunContext! This warning can be ignored when running in bare mode.\n",
            "2025-04-22 14:15:31.582 Thread 'MainThread': missing ScriptRunContext! This warning can be ignored when running in bare mode.\n",
            "2025-04-22 14:15:31.582 Thread 'MainThread': missing ScriptRunContext! This warning can be ignored when running in bare mode.\n",
            "2025-04-22 14:15:31.583 Thread 'MainThread': missing ScriptRunContext! This warning can be ignored when running in bare mode.\n",
            "2025-04-22 14:15:31.584 Thread 'MainThread': missing ScriptRunContext! This warning can be ignored when running in bare mode.\n",
            "2025-04-22 14:15:31.584 Thread 'MainThread': missing ScriptRunContext! This warning can be ignored when running in bare mode.\n",
            "2025-04-22 14:15:31.585 Thread 'MainThread': missing ScriptRunContext! This warning can be ignored when running in bare mode.\n",
            "2025-04-22 14:15:31.586 Thread 'MainThread': missing ScriptRunContext! This warning can be ignored when running in bare mode.\n",
            "2025-04-22 14:15:31.586 Thread 'MainThread': missing ScriptRunContext! This warning can be ignored when running in bare mode.\n",
            "2025-04-22 14:15:31.587 Thread 'MainThread': missing ScriptRunContext! This warning can be ignored when running in bare mode.\n",
            "2025-04-22 14:15:31.588 Thread 'MainThread': missing ScriptRunContext! This warning can be ignored when running in bare mode.\n",
            "2025-04-22 14:15:31.604 Thread 'MainThread': missing ScriptRunContext! This warning can be ignored when running in bare mode.\n",
            "2025-04-22 14:15:31.605 Thread 'MainThread': missing ScriptRunContext! This warning can be ignored when running in bare mode.\n",
            "2025-04-22 14:15:31.606 Thread 'MainThread': missing ScriptRunContext! This warning can be ignored when running in bare mode.\n",
            "2025-04-22 14:15:31.606 Thread 'MainThread': missing ScriptRunContext! This warning can be ignored when running in bare mode.\n",
            "2025-04-22 14:15:31.674 Thread 'MainThread': missing ScriptRunContext! This warning can be ignored when running in bare mode.\n",
            "2025-04-22 14:15:31.675 Thread 'MainThread': missing ScriptRunContext! This warning can be ignored when running in bare mode.\n"
          ]
        },
        {
          "output_type": "execute_result",
          "data": {
            "text/plain": [
              "DeltaGenerator()"
            ]
          },
          "metadata": {},
          "execution_count": 12
        }
      ]
    },
    {
      "cell_type": "markdown",
      "source": [
        "4.5-Deploying to Streamlit Cloud:"
      ],
      "metadata": {
        "id": "DB59YcYkBYqI"
      }
    },
    {
      "cell_type": "code",
      "source": [
        "pip freeze > requirements.txt"
      ],
      "metadata": {
        "id": "fAsotiYlBkXD"
      },
      "execution_count": null,
      "outputs": []
    }
  ]
}